{
 "metadata": {
  "name": "",
  "signature": "sha256:701888dfa2e8f42b9e62312afaf9c9aea6ce3706b2c1a04583d87a817e6cb6a4"
 },
 "nbformat": 3,
 "nbformat_minor": 0,
 "worksheets": [
  {
   "cells": [
    {
     "cell_type": "code",
     "collapsed": false,
     "input": [
      "import numpy as np\n",
      "import sys\n",
      "import random\n",
      "import os\n",
      "import optparse\n",
      "from os.path import isfile, join\n",
      "caffe_root = '/raid/yufeihome/caffe_1/'\n",
      "sys.path.insert(1,caffe_root + 'python')\n",
      "import caffe\n",
      "from os import listdir\n",
      "#sys.path.insert(2,'/home/feiyu1990/libs/liblinear-1.94/python')\n",
      "#from liblinearutil import *\n",
      "import cPickle\n",
      "from scipy.signal import convolve2d\n",
      "import matplotlib.pyplot as plt\n",
      "from PIL import Image\n",
      "import PIL\n",
      "import operator\n",
      "import matplotlib.cm as cm\n",
      "from scipy.misc import imresize\n",
      "%matplotlib inline\n",
      "from scipy.stats import pearsonr, spearmanr\n",
      "from scipy.io import savemat\n",
      "from sklearn import metrics\n",
      "\n",
      "cross_number = 5\n",
      "train_portion = 0.8\n",
      "test_portion = 0.2\n",
      "root = 'CNN_cross1'\n",
      "save_root = 'Analysis_2/CNN_cross1/'\n",
      "background_root = 'no_finetune_cross1/'\n",
      "foreground_root = 'no_finetune_cross1_foreground/'\n",
      "\n",
      "\n",
      "imagenet_model = '/raid/yufeihome/caffe/examples/imagenet/caffe_reference_imagenet_model'\n",
      "woratiofine_folder_name = '/result_background_woratiofine/'\n",
      "imagenet_deploy = '/raid/yufeihome/caffe/examples/imagenet/imagenet_deploy.prototxt'\n",
      "urban_deploy = '/raid/yufeihome/urban_tribe/caffe/finetune_bratio/codes/finetune_deploy.prototxt'\n",
      "classes = ['hipster','ravers', 'biker','country','goth','hiphop','others','surfer','clubber','formal','heavy']\n",
      "\n",
      "\n",
      "#foreground_fine_path = 'foreground_fine'\n",
      "#foreground_feature = 'optimal_new/'\n",
      "#background_dense_path = 'background_dense'\n",
      "#background_sparse_path = 'background_ratio'\n",
      "#background_woratio_path = 'background_woratio'\n",
      "#background_woratiofine_path = 'background_woratiofine'\n",
      "#foreground_woratiofine_path = 'foreground_woratiofine'"
     ],
     "language": "python",
     "metadata": {},
     "outputs": [],
     "prompt_number": 1
    },
    {
     "cell_type": "code",
     "collapsed": false,
     "input": [
      "    cross_portion = 0.0\n",
      "    urban_model = '/raid/yufeihome/urban_tribe/caffe/finetune_bratio/'+background_root+str(cross_portion)+'/background_iter_3000'\n",
      "    net = caffe.Classifier(urban_deploy,urban_model,image_dims=[256,256])\n",
      "    net.set_phase_test()\n",
      "    net.set_mode_gpu()\n",
      "    net.set_mean('data',caffe_root+'python/caffe/imagenet/ilsvrc_2012_mean.npy')\n",
      "    net.set_channel_swap('data',(2,1,0))\n",
      "    net.set_input_scale('data',255)"
     ],
     "language": "python",
     "metadata": {},
     "outputs": [],
     "prompt_number": 2
    },
    {
     "cell_type": "heading",
     "level": 1,
     "metadata": {},
     "source": [
      "GENERAL FUNCTIONS"
     ]
    },
    {
     "cell_type": "code",
     "collapsed": false,
     "input": [
      "def get_pool_indice(net,layer_number, no_feature_map):\n",
      "    pool_layer = 'pool'+str(layer_number)\n",
      "    conv_layer = 'conv'+str(layer_number)\n",
      "    pool_indice= np.zeros(net.blobs[pool_layer].data.shape, dtype='int')\n",
      "    #print pool_indice.shape\n",
      "    for i in xrange(0,net.blobs[conv_layer].data.shape[2]-1,2):\n",
      "        for j in xrange(0,net.blobs[conv_layer].data.shape[3]-1,2):\n",
      "            temp = net.blobs[conv_layer].data[4,:,i:i+3,j:j+3]\n",
      "            #print temp.shape\n",
      "            if temp.shape[1]!=3:\n",
      "                    temp = np.append(temp,np.zeros((temp.shape[0],3-temp.shape[1],temp.shape[2])),axis=1)\n",
      "            if temp.shape[2]!=3:\n",
      "                    temp = np.append(temp,np.zeros((temp.shape[0],temp.shape[1],3-temp.shape[2])),axis=2)\n",
      "            pool_indice[0,:,i/2,j/2]=np.argmax(np.reshape(temp,(temp.shape[0],9)),axis=1)\n",
      "            for k in xrange(net.blobs[conv_layer].data.shape[1]):\n",
      "                if(np.max(temp[k,:,:])==0):\n",
      "                    pool_indice[0,k,i/2,j/2]=-1\n",
      "    #print pool_indice[0,:,:,:].shape, net.blobs[conv_layer].data[4,:,:,:].shape\n",
      "    return pool_indice[0,:,:,:]\n",
      "\n",
      "def unpooling_layer(inputs, indice, outputs_shape):\n",
      "    outputs = np.zeros(outputs_shape)\n",
      "    for i in xrange(indice.shape[1]):\n",
      "        for j in xrange(indice.shape[2]):\n",
      "            for k in xrange(indice.shape[0]):\n",
      "                index = indice[k,i,j]\n",
      "                if(index == -1):\n",
      "                    continue\n",
      "                x_offset = index/3;y_offset = index-x_offset*3\n",
      "                outputs[k,i*2+x_offset,y_offset+j*2] = inputs[k,i,j]\n",
      "    return outputs\n",
      "\n",
      "def conv_layer(inputs,filters,bias,method = 'full'):\n",
      "    filters = np.transpose(filters,(1,0,2,3))\n",
      "    #print 'deconv filter shape:', filters.shape\n",
      "    #filters = filters[:,:,::-1,::-1]\n",
      "    filter_shape = filters.shape\n",
      "    outputs = np.zeros((filter_shape[0],inputs.shape[1]+filters.shape[2]-1,inputs.shape[2]+filters.shape[3]-1))\n",
      "    if method=='full':\n",
      "        outputs = np.zeros((filter_shape[0],inputs.shape[1]+filters.shape[2]-1,inputs.shape[2]+filters.shape[3]-1))\n",
      "    else:\n",
      "        outputs = np.zeros((filter_shape[0],inputs.shape[1],inputs.shape[2]))\n",
      "    #print inputs.shape, outputs.shape\n",
      "    intputs = inputs-bias\n",
      "    for i in xrange(filter_shape[0]):\n",
      "        for j in xrange(filter_shape[1]):\n",
      "            outputs[i,:,:] += convolve2d(inputs[j,:,:], filters[i,j,:,:],method)\n",
      "    return outputs\n",
      "def relu_layer(inputs):\n",
      "    outputs = np.maximum(inputs,np.zeros(inputs.shape))\n",
      "    return outputs\n",
      "def unpooling_layer_no_param(inputs):\n",
      "    inputs_shape = inputs.shape\n",
      "    outputs_shape = [inputs_shape[0],inputs_shape[1]*2+1, inputs_shape[2]*2+1]\n",
      "    outputs = np.zeros(outputs_shape)\n",
      "    for i in xrange(inputs_shape[1]):\n",
      "        for j in xrange(inputs_shape[2]):\n",
      "            outputs[:,i*2,j*2] = inputs[:,i,j]\n",
      "    return outputs\n"
     ],
     "language": "python",
     "metadata": {},
     "outputs": [],
     "prompt_number": 3
    },
    {
     "cell_type": "code",
     "collapsed": false,
     "input": [
      "def net_extract(net,image_name):\n",
      "    imageset_root = '/raid/yufeihome/urban_tribe/pictures_all/'      \n",
      "    mean = np.load(caffe_root+'/python/caffe/imagenet/ilsvrc_2012_mean.npy')\n",
      "    small_size = 256\n",
      "    net.predict([caffe.io.load_image(imageset_root+image_name)])"
     ],
     "language": "python",
     "metadata": {},
     "outputs": [],
     "prompt_number": 4
    },
    {
     "cell_type": "heading",
     "level": 1,
     "metadata": {},
     "source": [
      "RECONSTRUCTION OF PROB (an experiment. Cannot really show what each of the feature map is talking about)"
     ]
    },
    {
     "cell_type": "code",
     "collapsed": false,
     "input": [
      "def recon_1000prob(net, no_feature_map, pool1_indice, pool2_indice, pool5_indice):\n",
      "    inputs = net.blobs['fc8'].data[4,no_feature_map:no_feature_map+1,:,:]\n",
      "    inputs = np.asarray([[1000]])\n",
      "    bias = net.params['fc8'][1].data[0,0,0,no_feature_map:no_feature_map+1]\n",
      "    weights = np.transpose(net.params['fc8'][0].data[0,0,no_feature_map:no_feature_map+1,:])\n",
      "    inputs = inputs-bias\n",
      "    recon_fc7 = np.dot(weights,inputs)\n",
      "    recon_fc7 = relu_layer(recon_fc7)\n",
      "    \n",
      "    bias = np.transpose(net.params['fc7'][1].data[0,0,:,:])\n",
      "    weights = np.transpose(net.params['fc7'][0].data[0,0,:,:])\n",
      "    recon_fc7 = recon_fc7 - bias\n",
      "    recon_fc6 = np.dot(weights, recon_fc7)\n",
      "    recon_fc6 = relu_layer(recon_fc6)\n",
      "    \n",
      "    bias = np.transpose(net.params['fc6'][1].data[0,0,:,:])\n",
      "    weights = np.transpose(net.params['fc6'][0].data[0,0,:,:])\n",
      "    recon_fc6 = recon_fc6 - bias\n",
      "    recon_pool5 = np.dot(weights, recon_fc6)\n",
      "    recon_pool5 = np.reshape(recon_pool5, (256,6,6))\n",
      "    \n",
      "    conv5_shape = net.blobs['conv5'].data[4,:,:,:].shape\n",
      "    recon_conv5 = unpooling_layer(recon_pool5, pool5_indice,conv5_shape)\n",
      "    recon_conv5 = relu_layer(recon_conv5)\n",
      "    \n",
      "    filters = net.params['conv5'][0].data[:,:,:,:]\n",
      "    bias = np.transpose(net.params['conv5'][1].data[0,:,:,:],[2,1,0])\n",
      "    \n",
      "    conv5_part1 = recon_conv5[:recon_conv5.shape[0]/2,:,:]\n",
      "    conv5_part2 = recon_conv5[recon_conv5.shape[0]/2:,:,:]\n",
      "    filters_part1 = filters[:recon_conv5.shape[0]/2,:,:,:]\n",
      "    filters_part2 = filters[recon_conv5.shape[0]/2:,:,:,:]\n",
      "    bias_part1 = bias[:recon_conv5.shape[0]/2]\n",
      "    bias_part2 = bias[recon_conv5.shape[0]/2:]\n",
      "    recon_conv4_part1 = conv_layer(conv5_part1, filters_part1, bias_part1,'same')\n",
      "    recon_conv4_part2 = conv_layer(conv5_part2, filters_part2, bias_part2,'same')\n",
      "    recon_conv4 = np.concatenate((recon_conv4_part1, recon_conv4_part2))\n",
      "    recon_conv4 = relu_layer(recon_conv4)\n",
      "    \n",
      "    #conv4->relu3\n",
      "    filters = net.params['conv4'][0].data[:,:,:,:]\n",
      "    bias = net.params['conv4'][1].data[0,:,:,:]\n",
      "    bias = np.transpose(bias, [2,1,0])\n",
      "    conv4_part1 = recon_conv4[:recon_conv4.shape[0]/2,:,:]\n",
      "    conv4_part2 = recon_conv4[recon_conv4.shape[0]/2:,:,:]\n",
      "    filters_part1 = filters[:recon_conv4.shape[0]/2,:,:,:]\n",
      "    filters_part2 = filters[recon_conv4.shape[0]/2:,:,:,:]\n",
      "    bias_part1 = bias[:recon_conv4.shape[0]/2]\n",
      "    bias_part2 = bias[recon_conv4.shape[0]/2:]\n",
      "    recon_relu3_part1 = conv_layer(conv4_part1, filters_part1, bias_part1,'same')\n",
      "    recon_relu3_part2 = conv_layer(conv4_part2, filters_part2, bias_part2,'same')\n",
      "    recon_relu3 = np.concatenate((recon_relu3_part1, recon_relu3_part2))\n",
      "    \n",
      "    #relu3->conv3\n",
      "    recon_conv3 = relu_layer(recon_relu3)   \n",
      "    \n",
      "    #conv3->pool2\n",
      "    filters = net.params['conv3'][0].data\n",
      "    bias = net.params['conv3'][1].data[0,:,:,:]\n",
      "    bias = np.transpose(bias, [2,1,0])\n",
      "    recon_pool2 = conv_layer(recon_conv3, filters, bias,'same')  \n",
      "\n",
      "    #pool2->relu2\n",
      "    recon_relu2 = relu_layer(recon_pool2)\n",
      "    \n",
      "    #relu2->conv2\n",
      "    conv2_shape = net.blobs['conv2'].data[4,:,:,:].shape\n",
      "    recon_conv2 = unpooling_layer(recon_relu2, pool2_indice,conv2_shape)\n",
      "    \n",
      "    #conv2->pool1\n",
      "    conv2_part1 = recon_conv2[:recon_conv2.shape[0]/2,:,:]\n",
      "    conv2_part2 = recon_conv2[recon_conv2.shape[0]/2:,:,:]\n",
      "    filters = net.params['conv2'][0].data[:,:,:,:]\n",
      "    bias = np.transpose(net.params['conv2'][1].data[0,:,:,:],[2,1,0])\n",
      "    filters_part1 = filters[:recon_conv2.shape[0]/2,:,:,:]\n",
      "    filters_part2 = filters[recon_conv2.shape[0]/2:,:,:,:]\n",
      "    bias_part1 = bias[:recon_conv2.shape[0]/2]\n",
      "    bias_part2 = bias[recon_conv2.shape[0]/2:]\n",
      "    recon_pool1_part1 = conv_layer(conv2_part1, filters_part1, bias_part1,'same')\n",
      "    recon_pool1_part2 = conv_layer(conv2_part2, filters_part2, bias_part2,'same')\n",
      "    recon_pool1 = np.concatenate((recon_pool1_part1, recon_pool1_part2))\n",
      "    \n",
      "    #pool1->relu1\n",
      "    recon_pool1 = relu_layer(recon_pool1)\n",
      "    \n",
      "    #relu1->conv1\n",
      "    conv1_shape = net.blobs['conv1'].data[4,:,:,:].shape\n",
      "    recon_conv1 = unpooling_layer(recon_pool1, pool1_indice,conv1_shape)\n",
      "    \n",
      "    #conv1->data\n",
      "    filters = net.params['conv1'][0].data[:,:,:,:]\n",
      "    bias = np.transpose(net.params['conv1'][1].data[0,:,:,:],[2,1,0])\n",
      "    recon_data = conv_layer(recon_conv1, filters, bias,method='same')\n",
      "    recon_data= np.transpose(np.squeeze(recon_data),(1,2,0))\n",
      "    recon_data= (recon_data-np.min(recon_data))/(np.max(recon_data)-np.min(recon_data))\n",
      "    return recon_data"
     ],
     "language": "python",
     "metadata": {},
     "outputs": [],
     "prompt_number": 5
    },
    {
     "cell_type": "markdown",
     "metadata": {},
     "source": [
      "recon_1000prob_no_pool is an experiment. Just ignore it."
     ]
    },
    {
     "cell_type": "code",
     "collapsed": false,
     "input": [
      "def recon_1000prob_no_pool(net, no_feature_map):\n",
      "    inputs = net.blobs['fc8'].data[4,no_feature_map:no_feature_map+1,:,:]\n",
      "    inputs = np.asarray([[1000]])\n",
      "    bias = net.params['fc8'][1].data[0,0,0,no_feature_map:no_feature_map+1]\n",
      "    weights = np.transpose(net.params['fc8'][0].data[0,0,no_feature_map:no_feature_map+1,:])\n",
      "    inputs = inputs-bias\n",
      "    recon_fc7 = np.dot(weights,inputs)\n",
      "    recon_fc7 = relu_layer(recon_fc7)\n",
      "    \n",
      "    bias = np.transpose(net.params['fc7'][1].data[0,0,:,:])\n",
      "    weights = np.transpose(net.params['fc7'][0].data[0,0,:,:])\n",
      "    recon_fc7 = recon_fc7 - bias\n",
      "    recon_fc6 = np.dot(weights, recon_fc7)\n",
      "    recon_fc6 = relu_layer(recon_fc6)\n",
      "    \n",
      "    bias = np.transpose(net.params['fc6'][1].data[0,0,:,:])\n",
      "    weights = np.transpose(net.params['fc6'][0].data[0,0,:,:])\n",
      "    recon_fc6 = recon_fc6 - bias\n",
      "    recon_pool5 = np.dot(weights, recon_fc6)\n",
      "    recon_pool5 = np.reshape(recon_pool5, (256,6,6))\n",
      "    \n",
      "    conv5_shape = net.blobs['conv5'].data[4,:,:,:].shape\n",
      "    recon_conv5 = unpooling_layer_no_param(recon_pool5)\n",
      "    recon_conv5 = relu_layer(recon_conv5)\n",
      "    \n",
      "    filters = net.params['conv5'][0].data[:,:,:,:]\n",
      "    bias = np.transpose(net.params['conv5'][1].data[0,:,:,:],[2,1,0])\n",
      "    \n",
      "    conv5_part1 = recon_conv5[:recon_conv5.shape[0]/2,:,:]\n",
      "    conv5_part2 = recon_conv5[recon_conv5.shape[0]/2:,:,:]\n",
      "    filters_part1 = filters[:recon_conv5.shape[0]/2,:,:,:]\n",
      "    filters_part2 = filters[recon_conv5.shape[0]/2:,:,:,:]\n",
      "    bias_part1 = bias[:recon_conv5.shape[0]/2]\n",
      "    bias_part2 = bias[recon_conv5.shape[0]/2:]\n",
      "    recon_conv4_part1 = conv_layer(conv5_part1, filters_part1, bias_part1,'same')\n",
      "    recon_conv4_part2 = conv_layer(conv5_part2, filters_part2, bias_part2,'same')\n",
      "    recon_conv4 = np.concatenate((recon_conv4_part1, recon_conv4_part2))\n",
      "    recon_conv4 = relu_layer(recon_conv4)\n",
      "    \n",
      "    #conv4->relu3\n",
      "    filters = net.params['conv4'][0].data[:,:,:,:]\n",
      "    bias = net.params['conv4'][1].data[0,:,:,:]\n",
      "    bias = np.transpose(bias, [2,1,0])\n",
      "    conv4_part1 = recon_conv4[:recon_conv4.shape[0]/2,:,:]\n",
      "    conv4_part2 = recon_conv4[recon_conv4.shape[0]/2:,:,:]\n",
      "    filters_part1 = filters[:recon_conv4.shape[0]/2,:,:,:]\n",
      "    filters_part2 = filters[recon_conv4.shape[0]/2:,:,:,:]\n",
      "    bias_part1 = bias[:recon_conv4.shape[0]/2]\n",
      "    bias_part2 = bias[recon_conv4.shape[0]/2:]\n",
      "    recon_relu3_part1 = conv_layer(conv4_part1, filters_part1, bias_part1,'same')\n",
      "    recon_relu3_part2 = conv_layer(conv4_part2, filters_part2, bias_part2,'same')\n",
      "    recon_relu3 = np.concatenate((recon_relu3_part1, recon_relu3_part2))\n",
      "    \n",
      "    #relu3->conv3\n",
      "    recon_conv3 = relu_layer(recon_relu3)   \n",
      "    \n",
      "    #conv3->pool2\n",
      "    filters = net.params['conv3'][0].data\n",
      "    bias = net.params['conv3'][1].data[0,:,:,:]\n",
      "    bias = np.transpose(bias, [2,1,0])\n",
      "    recon_pool2 = conv_layer(recon_conv3, filters, bias,'same')  \n",
      "\n",
      "    #pool2->relu2\n",
      "    recon_relu2 = relu_layer(recon_pool2)\n",
      "    \n",
      "    #relu2->conv2\n",
      "    conv2_shape = net.blobs['conv2'].data[4,:,:,:].shape\n",
      "    recon_conv2 = unpooling_layer_no_param(recon_relu2)\n",
      "    \n",
      "    #conv2->pool1\n",
      "    conv2_part1 = recon_conv2[:recon_conv2.shape[0]/2,:,:]\n",
      "    conv2_part2 = recon_conv2[recon_conv2.shape[0]/2:,:,:]\n",
      "    filters = net.params['conv2'][0].data[:,:,:,:]\n",
      "    bias = np.transpose(net.params['conv2'][1].data[0,:,:,:],[2,1,0])\n",
      "    filters_part1 = filters[:recon_conv2.shape[0]/2,:,:,:]\n",
      "    filters_part2 = filters[recon_conv2.shape[0]/2:,:,:,:]\n",
      "    bias_part1 = bias[:recon_conv2.shape[0]/2]\n",
      "    bias_part2 = bias[recon_conv2.shape[0]/2:]\n",
      "    recon_pool1_part1 = conv_layer(conv2_part1, filters_part1, bias_part1,'same')\n",
      "    recon_pool1_part2 = conv_layer(conv2_part2, filters_part2, bias_part2,'same')\n",
      "    recon_pool1 = np.concatenate((recon_pool1_part1, recon_pool1_part2))\n",
      "    \n",
      "    #pool1->relu1\n",
      "    recon_pool1 = relu_layer(recon_pool1)\n",
      "    \n",
      "    #relu1->conv1\n",
      "    conv1_shape = net.blobs['conv1'].data[4,:,:,:].shape\n",
      "    recon_conv1 = unpooling_layer_no_param(recon_pool1)\n",
      "    \n",
      "    #conv1->data\n",
      "    filters = net.params['conv1'][0].data[:,:,:,:]\n",
      "    bias = np.transpose(net.params['conv1'][1].data[0,:,:,:],[2,1,0])\n",
      "    recon_data = conv_layer(recon_conv1, filters, bias,method='same')\n",
      "    recon_data= np.transpose(np.squeeze(recon_data),(1,2,0))\n",
      "    recon_data= (recon_data-np.min(recon_data))/(np.max(recon_data)-np.min(recon_data))\n",
      "    return recon_data"
     ],
     "language": "python",
     "metadata": {},
     "outputs": [],
     "prompt_number": 6
    },
    {
     "cell_type": "code",
     "collapsed": false,
     "input": [
      "files = '/raid/yufeihome/urban_tribe/caffe/CNN_cross1/dataset_alignment_5/person_0.0.pkl'\n",
      "f = open(files,'rb')\n",
      "test_files = cPickle.load(f)\n",
      "f.close()\n",
      "max_activations=[]\n",
      "max_files =[]\n",
      "max_test = np.zeros((len(test_files), 1000))\n",
      "i=0\n",
      "for file_name in test_files:\n",
      "    current_class = file_name.split('_')[0]\n",
      "    net_extract(net,current_class+'/'+file_name)\n",
      "    for no_feature_map in xrange(1000): \n",
      "        max_test[i,no_feature_map] = np.max(net.blobs['prob'].data[4,no_feature_map:no_feature_map+1])\n",
      "    i=i+1\n",
      "print max_test.shape\n",
      "max_max_test = np.max(max_test, axis=0)\n",
      "print max_max_test.shape\n",
      "sorted_max = np.sort(max_max_test)\n",
      "argsorted_max = np.argsort(max_max_test)"
     ],
     "language": "python",
     "metadata": {},
     "outputs": [
      {
       "output_type": "stream",
       "stream": "stdout",
       "text": [
        "(1720, 1000)\n",
        "(1000,)\n"
       ]
      }
     ],
     "prompt_number": 15
    },
    {
     "cell_type": "markdown",
     "metadata": {},
     "source": [
      "For each of the feature map(1000), find most activated 3 points and visualize them."
     ]
    },
    {
     "cell_type": "code",
     "collapsed": false,
     "input": [
      "for index in xrange(1,1001):\n",
      "    no_feature_map = argsorted_max[-index]\n",
      "    test_sort = np.argsort(max_test[:,no_feature_map])\n",
      "    for i in xrange(1,4):\n",
      "        max_file = test_files[test_sort[-i]]\n",
      "        current_class = max_file.split('_')[0]\n",
      "        print max_file, no_feature_map\n",
      "        net_extract(net,current_class+'/'+max_file)\n",
      "        img = np.transpose(net.blobs['data'].data[4,:,:,:],(1,2,0))\n",
      "        img = (img-np.min(img))/(np.max(img)-np.min(img))\n",
      "        img = img[:,:,::-1]\n",
      "        plt.subplot(3,3,i)\n",
      "        plt.imshow(img)\n",
      "        pool1_indice = get_pool_indice(net,1,no_feature_map)\n",
      "        pool2_indice = get_pool_indice(net,2,no_feature_map)\n",
      "        pool5_indice = get_pool_indice(net,5,no_feature_map)\n",
      "        plt.subplot(3,3,i+3)    \n",
      "        outputs_layer1 = recon_1000prob(net, no_feature_map, pool1_indice,pool2_indice,pool5_indice)\n",
      "        plt.imshow(outputs_layer1[:,:,::-1])\n",
      "    outputs_layer1 = recon_1000prob_no_pool(net, no_feature_map)\n",
      "    plt.subplot(3,3,7)   \n",
      "    plt.imshow(outputs_layer1[:,:,::-1])\n",
      "    #plt.savefig('visualization/prob/'+str(index)+'_'+str(no_feature_map)+'.png')"
     ],
     "language": "python",
     "metadata": {},
     "outputs": [
      {
       "output_type": "stream",
       "stream": "stdout",
       "text": [
        "formal_group_pic00328_08.jpg 906\n",
        "formal_group_pic00376_10.jpg"
       ]
      },
      {
       "output_type": "stream",
       "stream": "stdout",
       "text": [
        " 906\n",
        "formal_group_pic00393_02.jpg"
       ]
      },
      {
       "output_type": "stream",
       "stream": "stdout",
       "text": [
        " 906\n",
        "ravers_group_pic00920_03.jpg"
       ]
      },
      {
       "output_type": "stream",
       "stream": "stdout",
       "text": [
        " 917\n",
        "ravers_group_pic00920_02.jpg"
       ]
      },
      {
       "output_type": "stream",
       "stream": "stdout",
       "text": [
        " 917\n",
        "country_group_pic00234_08.jpg"
       ]
      },
      {
       "output_type": "stream",
       "stream": "stdout",
       "text": [
        " 917\n",
        "formal_group_pic00407_02.jpg"
       ]
      },
      {
       "output_type": "stream",
       "stream": "stdout",
       "text": [
        " 568\n",
        "heavy_group_pic00611_03.jpg"
       ]
      },
      {
       "output_type": "stream",
       "stream": "stdout",
       "text": [
        " 568\n",
        "formal_group_pic00334_02.jpg"
       ]
      },
      {
       "output_type": "stream",
       "stream": "stdout",
       "text": [
        " 568\n",
        "surfer_group_pic01068_02.jpg"
       ]
      },
      {
       "output_type": "stream",
       "stream": "stdout",
       "text": [
        " 610\n",
        "surfer_group_pic01068_04.jpg"
       ]
      },
      {
       "output_type": "stream",
       "stream": "stdout",
       "text": [
        " 610\n",
        "hipster_group_pic00801_04.jpg"
       ]
      },
      {
       "output_type": "stream",
       "stream": "stdout",
       "text": [
        " 610\n",
        "formal_group_pic00364_05.jpg"
       ]
      },
      {
       "output_type": "stream",
       "stream": "stdout",
       "text": [
        " 399\n",
        "biker_group_pic00096_35.jpg"
       ]
      },
      {
       "output_type": "stream",
       "stream": "stdout",
       "text": [
        " 399\n",
        "clubber_group_pic00131_02.jpg"
       ]
      },
      {
       "output_type": "stream",
       "stream": "stdout",
       "text": [
        " 399\n",
        "hipster_group_pic00779_02.jpg"
       ]
      },
      {
       "output_type": "stream",
       "stream": "stdout",
       "text": [
        " 697\n",
        "country_group_pic00271_03.jpg"
       ]
      },
      {
       "output_type": "stream",
       "stream": "stdout",
       "text": [
        " 697\n",
        "surfer_group_pic01022_04.jpg"
       ]
      },
      {
       "output_type": "stream",
       "stream": "stdout",
       "text": [
        " 697\n",
        "biker_group_pic00062_16.jpg"
       ]
      },
      {
       "output_type": "stream",
       "stream": "stdout",
       "text": [
        " 465\n",
        "biker_group_pic00030_06.jpg"
       ]
      },
      {
       "output_type": "stream",
       "stream": "stdout",
       "text": [
        " 465\n",
        "surfer_group_pic01097_09.jpg"
       ]
      },
      {
       "output_type": "stream",
       "stream": "stdout",
       "text": [
        " 465\n",
        "biker_group_pic00096_18.jpg"
       ]
      },
      {
       "output_type": "stream",
       "stream": "stdout",
       "text": [
        " 400\n",
        "biker_group_pic00096_30.jpg"
       ]
      },
      {
       "output_type": "stream",
       "stream": "stdout",
       "text": [
        " 400\n",
        "heavy_group_pic00624_06.jpg"
       ]
      },
      {
       "output_type": "stream",
       "stream": "stdout",
       "text": [
        " 400\n",
        "hiphop_group_pic00660_05.jpg"
       ]
      },
      {
       "output_type": "stream",
       "stream": "stdout",
       "text": [
        " 439\n",
        "hipster_group_pic00731_03.jpg"
       ]
      },
      {
       "output_type": "stream",
       "stream": "stdout",
       "text": [
        " 439\n",
        "others_group_pic00872_05.jpg"
       ]
      },
      {
       "output_type": "stream",
       "stream": "stdout",
       "text": [
        " 439\n",
        "others_group_pic00874_01.jpg"
       ]
      },
      {
       "output_type": "stream",
       "stream": "stdout",
       "text": [
        " 739\n",
        "hipster_group_pic00726_05.jpg"
       ]
      },
      {
       "output_type": "stream",
       "stream": "stdout",
       "text": [
        " 739\n",
        "others_group_pic00874_06.jpg"
       ]
      },
      {
       "output_type": "stream",
       "stream": "stdout",
       "text": [
        " 739\n",
        "formal_group_pic00412_01.jpg"
       ]
      },
      {
       "output_type": "stream",
       "stream": "stdout",
       "text": [
        " 834\n",
        "formal_group_pic00387_03.jpg"
       ]
      },
      {
       "output_type": "stream",
       "stream": "stdout",
       "text": [
        " 834\n",
        "formal_group_pic00395_04.jpg"
       ]
      },
      {
       "output_type": "stream",
       "stream": "stdout",
       "text": [
        " 834\n",
        "country_group_pic00250_07.jpg"
       ]
      },
      {
       "output_type": "stream",
       "stream": "stdout",
       "text": [
        " 653\n",
        "country_group_pic00298_02.jpg"
       ]
      },
      {
       "output_type": "stream",
       "stream": "stdout",
       "text": [
        " 653\n",
        "hiphop_group_pic00650_02.jpg"
       ]
      },
      {
       "output_type": "stream",
       "stream": "stdout",
       "text": [
        " 653\n",
        "ravers_group_pic00907_03.jpg"
       ]
      },
      {
       "output_type": "stream",
       "stream": "stdout",
       "text": [
        " 445\n",
        "ravers_group_pic00992_01.jpg"
       ]
      },
      {
       "output_type": "stream",
       "stream": "stdout",
       "text": [
        " 445\n",
        "surfer_group_pic01043_01.jpg"
       ]
      },
      {
       "output_type": "stream",
       "stream": "stdout",
       "text": [
        " 445\n",
        "clubber_group_pic00186_09.jpg"
       ]
      },
      {
       "output_type": "stream",
       "stream": "stdout",
       "text": [
        " 361\n",
        "hipster_group_pic00736_02.jpg"
       ]
      },
      {
       "output_type": "stream",
       "stream": "stdout",
       "text": [
        " 361\n",
        "heavy_group_pic00570_10.jpg"
       ]
      },
      {
       "output_type": "stream",
       "stream": "stdout",
       "text": [
        " 361\n",
        "others_group_pic00847_02.jpg"
       ]
      },
      {
       "output_type": "stream",
       "stream": "stdout",
       "text": [
        " 678\n",
        "biker_group_pic00080_08.jpg"
       ]
      },
      {
       "output_type": "stream",
       "stream": "stdout",
       "text": [
        " 678\n",
        "others_group_pic00900_10.jpg"
       ]
      },
      {
       "output_type": "stream",
       "stream": "stdout",
       "text": [
        " 678\n",
        "ravers_group_pic00992_06.jpg"
       ]
      },
      {
       "output_type": "stream",
       "stream": "stdout",
       "text": [
        " 836\n",
        "country_group_pic00296_06.jpg"
       ]
      },
      {
       "output_type": "stream",
       "stream": "stdout",
       "text": [
        " 836\n",
        "country_group_pic00228_02.jpg"
       ]
      },
      {
       "output_type": "stream",
       "stream": "stdout",
       "text": [
        " 836\n",
        "ravers_group_pic00999_10.jpg"
       ]
      },
      {
       "output_type": "stream",
       "stream": "stdout",
       "text": [
        " 885\n",
        "clubber_group_pic00165_05.jpg"
       ]
      },
      {
       "output_type": "stream",
       "stream": "stdout",
       "text": [
        " 885\n",
        "hiphop_group_pic00697_03.jpg"
       ]
      },
      {
       "output_type": "stream",
       "stream": "stdout",
       "text": [
        " 885\n",
        "hipster_group_pic00736_03.jpg"
       ]
      },
      {
       "output_type": "stream",
       "stream": "stdout",
       "text": [
        " 683\n",
        "hipster_group_pic00736_05.jpg"
       ]
      },
      {
       "output_type": "stream",
       "stream": "stdout",
       "text": [
        " 683\n",
        "ravers_group_pic00961_02.jpg"
       ]
      },
      {
       "output_type": "stream",
       "stream": "stdout",
       "text": [
        " 683\n",
        "clubber_group_pic00165_09.jpg"
       ]
      },
      {
       "output_type": "stream",
       "stream": "stdout",
       "text": [
        " 615\n",
        "hiphop_group_pic00688_05.jpg"
       ]
      },
      {
       "output_type": "stream",
       "stream": "stdout",
       "text": [
        " 615\n",
        "clubber_group_pic00115_07.jpg"
       ]
      },
      {
       "output_type": "stream",
       "stream": "stdout",
       "text": [
        " 615\n",
        "hiphop_group_pic00636_03.jpg"
       ]
      },
      {
       "output_type": "stream",
       "stream": "stdout",
       "text": [
        " 881\n",
        "goth_group_pic00451_04.jpg"
       ]
      },
      {
       "output_type": "stream",
       "stream": "stdout",
       "text": [
        " 881\n",
        "ravers_group_pic00969_06.jpg"
       ]
      },
      {
       "output_type": "stream",
       "stream": "stdout",
       "text": [
        " 881\n",
        "clubber_group_pic00194_06.jpg"
       ]
      },
      {
       "output_type": "stream",
       "stream": "stdout",
       "text": [
        " 903\n",
        "goth_group_pic00509_01.jpg"
       ]
      },
      {
       "output_type": "stream",
       "stream": "stdout",
       "text": [
        " 903\n",
        "ravers_group_pic00953_06.jpg"
       ]
      },
      {
       "output_type": "stream",
       "stream": "stdout",
       "text": [
        " 903\n",
        "surfer_group_pic01089_05.jpg"
       ]
      },
      {
       "output_type": "stream",
       "stream": "stdout",
       "text": [
        " 869\n",
        "goth_group_pic00432_02.jpg"
       ]
      },
      {
       "output_type": "stream",
       "stream": "stdout",
       "text": [
        " 869\n",
        "goth_group_pic00433_01.jpg"
       ]
      },
      {
       "output_type": "stream",
       "stream": "stdout",
       "text": [
        " 869\n",
        "others_group_pic00858_03.jpg"
       ]
      },
      {
       "output_type": "stream",
       "stream": "stdout",
       "text": [
        " 629\n",
        "ravers_group_pic00999_11.jpg"
       ]
      },
      {
       "output_type": "stream",
       "stream": "stdout",
       "text": [
        " 629\n",
        "clubber_group_pic00115_06.jpg"
       ]
      },
      {
       "output_type": "stream",
       "stream": "stdout",
       "text": [
        " 629\n",
        "hipster_group_pic00779_04.jpg"
       ]
      },
      {
       "output_type": "stream",
       "stream": "stdout",
       "text": [
        " 942\n",
        "clubber_group_pic00116_04.jpg"
       ]
      },
      {
       "output_type": "stream",
       "stream": "stdout",
       "text": [
        " 942\n",
        "hipster_group_pic00793_07.jpg"
       ]
      },
      {
       "output_type": "stream",
       "stream": "stdout",
       "text": [
        " 942\n",
        "formal_group_pic00376_01.jpg"
       ]
      },
      {
       "output_type": "stream",
       "stream": "stdout",
       "text": [
        " 601\n",
        "formal_group_pic00326_03.jpg"
       ]
      },
      {
       "output_type": "stream",
       "stream": "stdout",
       "text": [
        " 601\n",
        "others_group_pic01144_10.jpg"
       ]
      },
      {
       "output_type": "stream",
       "stream": "stdout",
       "text": [
        " 601\n",
        "others_group_pic00878_17.jpg"
       ]
      },
      {
       "output_type": "stream",
       "stream": "stdout",
       "text": [
        " 490\n",
        "hipster_group_pic00817_01.jpg"
       ]
      },
      {
       "output_type": "stream",
       "stream": "stdout",
       "text": [
        " 490\n",
        "others_group_pic01139_07.jpg"
       ]
      },
      {
       "output_type": "stream",
       "stream": "stdout",
       "text": [
        " 490\n",
        "goth_group_pic00506_02.jpg"
       ]
      },
      {
       "output_type": "stream",
       "stream": "stdout",
       "text": [
        " 552\n",
        "hipster_group_pic00769_02.jpg"
       ]
      },
      {
       "output_type": "stream",
       "stream": "stdout",
       "text": [
        " 552\n",
        "clubber_group_pic00205_01.jpg"
       ]
      },
      {
       "output_type": "stream",
       "stream": "stdout",
       "text": [
        " 552\n",
        "goth_group_pic00488_03.jpg"
       ]
      },
      {
       "output_type": "stream",
       "stream": "stdout",
       "text": [
        " 822\n",
        "ravers_group_pic00932_07.jpg"
       ]
      },
      {
       "output_type": "stream",
       "stream": "stdout",
       "text": [
        " 822\n",
        "biker_group_pic00008_09.jpg"
       ]
      },
      {
       "output_type": "stream",
       "stream": "stdout",
       "text": [
        " 822\n",
        "clubber_group_pic00125_02.jpg"
       ]
      },
      {
       "output_type": "stream",
       "stream": "stdout",
       "text": [
        " 639\n",
        "others_group_pic00900_08.jpg"
       ]
      },
      {
       "output_type": "stream",
       "stream": "stdout",
       "text": [
        " 639\n",
        "hipster_group_pic00801_03.jpg"
       ]
      },
      {
       "output_type": "stream",
       "stream": "stdout",
       "text": [
        " 639\n",
        "others_group_pic00878_12.jpg"
       ]
      },
      {
       "output_type": "stream",
       "stream": "stdout",
       "text": [
        " 846\n",
        "hipster_group_pic00726_08.jpg"
       ]
      },
      {
       "output_type": "stream",
       "stream": "stdout",
       "text": [
        " 846\n",
        "hipster_group_pic00726_06.jpg"
       ]
      },
      {
       "output_type": "stream",
       "stream": "stdout",
       "text": [
        " 846\n",
        "ravers_group_pic00992_03.jpg"
       ]
      },
      {
       "output_type": "stream",
       "stream": "stdout",
       "text": [
        " 332\n",
        "formal_group_pic00358_04.jpg"
       ]
      },
      {
       "output_type": "stream",
       "stream": "stdout",
       "text": [
        " 332\n",
        "clubber_group_pic00173_02.jpg"
       ]
      },
      {
       "output_type": "stream",
       "stream": "stdout",
       "text": [
        " 332\n",
        "hiphop_group_pic00636_02.jpg"
       ]
      },
      {
       "output_type": "stream",
       "stream": "stdout",
       "text": [
        " 432\n",
        "others_group_pic00900_06.jpg"
       ]
      },
      {
       "output_type": "stream",
       "stream": "stdout",
       "text": [
        " 432\n",
        "clubber_group_pic00166_06.jpg"
       ]
      },
      {
       "output_type": "stream",
       "stream": "stdout",
       "text": [
        " 432\n",
        "clubber_group_pic00161_07.jpg"
       ]
      },
      {
       "output_type": "stream",
       "stream": "stdout",
       "text": [
        " 507\n",
        "heavy_group_pic00557_03.jpg"
       ]
      },
      {
       "output_type": "stream",
       "stream": "stdout",
       "text": [
        " 507\n",
        "country_group_pic00275_04.jpg"
       ]
      },
      {
       "output_type": "stream",
       "stream": "stdout",
       "text": [
        " 507\n",
        "country_group_pic00311_01.jpg"
       ]
      },
      {
       "output_type": "stream",
       "stream": "stdout",
       "text": [
        " 459\n",
        "ravers_group_pic00976_03.jpg"
       ]
      },
      {
       "output_type": "stream",
       "stream": "stdout",
       "text": [
        " 459\n",
        "hiphop_group_pic00653_01.jpg"
       ]
      },
      {
       "output_type": "stream",
       "stream": "stdout",
       "text": [
        " 459\n",
        "hipster_group_pic00744_03.jpg"
       ]
      },
      {
       "output_type": "stream",
       "stream": "stdout",
       "text": [
        " 655\n",
        "goth_group_pic00438_02.jpg"
       ]
      },
      {
       "output_type": "stream",
       "stream": "stdout",
       "text": [
        " 655\n",
        "clubber_group_pic00165_11.jpg"
       ]
      },
      {
       "output_type": "stream",
       "stream": "stdout",
       "text": [
        " 655\n",
        "country_group_pic00280_02.jpg"
       ]
      },
      {
       "output_type": "stream",
       "stream": "stdout",
       "text": [
        " 842\n",
        "country_group_pic00254_02.jpg"
       ]
      },
      {
       "output_type": "stream",
       "stream": "stdout",
       "text": [
        " 842\n",
        "country_group_pic00280_06.jpg"
       ]
      },
      {
       "output_type": "stream",
       "stream": "stdout",
       "text": [
        " 842\n",
        "country_group_pic00296_01.jpg"
       ]
      },
      {
       "output_type": "stream",
       "stream": "stdout",
       "text": [
        " 642\n",
        "hiphop_group_pic00660_01.jpg"
       ]
      },
      {
       "output_type": "stream",
       "stream": "stdout",
       "text": [
        " 642\n",
        "hiphop_group_pic00634_03.jpg"
       ]
      },
      {
       "output_type": "stream",
       "stream": "stdout",
       "text": [
        " 642\n",
        "biker_group_pic00026_03.jpg"
       ]
      },
      {
       "output_type": "stream",
       "stream": "stdout",
       "text": [
        " 708\n",
        "goth_group_pic00441_06.jpg"
       ]
      },
      {
       "output_type": "stream",
       "stream": "stdout",
       "text": [
        " 708\n",
        "biker_group_pic00030_02.jpg"
       ]
      },
      {
       "output_type": "stream",
       "stream": "stdout",
       "text": [
        " 708\n",
        "heavy_group_pic00555_06.jpg"
       ]
      },
      {
       "output_type": "stream",
       "stream": "stdout",
       "text": [
        " 566\n",
        "heavy_group_pic00611_05.jpg"
       ]
      },
      {
       "output_type": "stream",
       "stream": "stdout",
       "text": [
        " 566\n",
        "ravers_group_pic01003_02.jpg"
       ]
      },
      {
       "output_type": "stream",
       "stream": "stdout",
       "text": [
        " 566\n",
        "ravers_group_pic00914_01.jpg"
       ]
      },
      {
       "output_type": "stream",
       "stream": "stdout",
       "text": [
        " 614\n",
        "hipster_group_pic00769_05.jpg"
       ]
      },
      {
       "output_type": "stream",
       "stream": "stdout",
       "text": [
        " 614\n",
        "hipster_group_pic00769_03.jpg"
       ]
      },
      {
       "output_type": "stream",
       "stream": "stdout",
       "text": [
        " 614\n",
        "hipster_group_pic00736_06.jpg"
       ]
      },
      {
       "output_type": "stream",
       "stream": "stdout",
       "text": [
        " 103\n",
        "ravers_group_pic00932_01.jpg"
       ]
      },
      {
       "output_type": "stream",
       "stream": "stdout",
       "text": [
        " 103\n",
        "biker_group_pic00030_09.jpg"
       ]
      },
      {
       "output_type": "stream",
       "stream": "stdout",
       "text": [
        " 103\n",
        "hipster_group_pic00726_09.jpg"
       ]
      },
      {
       "output_type": "stream",
       "stream": "stdout",
       "text": [
        " 775\n",
        "hiphop_group_pic00677_01.jpg"
       ]
      },
      {
       "output_type": "stream",
       "stream": "stdout",
       "text": [
        " 775\n",
        "hipster_group_pic00735_02.jpg"
       ]
      },
      {
       "output_type": "stream",
       "stream": "stdout",
       "text": [
        " 775\n",
        "goth_group_pic00431_03.jpg"
       ]
      },
      {
       "output_type": "stream",
       "stream": "stdout",
       "text": [
        " 689\n",
        "goth_group_pic00441_02.jpg"
       ]
      },
      {
       "output_type": "stream",
       "stream": "stdout",
       "text": [
        " 689\n",
        "hiphop_group_pic00697_06.jpg"
       ]
      },
      {
       "output_type": "stream",
       "stream": "stdout",
       "text": [
        " 689\n",
        "hiphop_group_pic00710_14.jpg"
       ]
      },
      {
       "output_type": "stream",
       "stream": "stdout",
       "text": [
        " 860\n",
        "hipster_group_pic00731_11.jpg"
       ]
      },
      {
       "output_type": "stream",
       "stream": "stdout",
       "text": [
        " 860\n",
        "hipster_group_pic00801_05.jpg"
       ]
      },
      {
       "output_type": "stream",
       "stream": "stdout",
       "text": [
        " 860\n",
        "hiphop_group_pic00643_02.jpg"
       ]
      },
      {
       "output_type": "stream",
       "stream": "stdout",
       "text": [
        " 543\n",
        "hiphop_group_pic00688_06.jpg"
       ]
      },
      {
       "output_type": "stream",
       "stream": "stdout",
       "text": [
        " 543\n",
        "biker_group_pic00066_05.jpg"
       ]
      },
      {
       "output_type": "stream",
       "stream": "stdout",
       "text": [
        " 543\n",
        "ravers_group_pic00999_01.jpg"
       ]
      },
      {
       "output_type": "stream",
       "stream": "stdout",
       "text": [
        " 433\n",
        "country_group_pic00280_03.jpg"
       ]
      },
      {
       "output_type": "stream",
       "stream": "stdout",
       "text": [
        " 433\n",
        "hiphop_group_pic00688_06.jpg"
       ]
      },
      {
       "output_type": "stream",
       "stream": "stdout",
       "text": [
        " 433\n",
        "others_group_pic00856_07.jpg"
       ]
      },
      {
       "output_type": "stream",
       "stream": "stdout",
       "text": [
        " 841\n",
        "country_group_pic00275_01.jpg"
       ]
      },
      {
       "output_type": "stream",
       "stream": "stdout",
       "text": [
        " 841\n",
        "hiphop_group_pic00704_05.jpg"
       ]
      },
      {
       "output_type": "stream",
       "stream": "stdout",
       "text": [
        " 841\n",
        "goth_group_pic00466_03.jpg"
       ]
      },
      {
       "output_type": "stream",
       "stream": "stdout",
       "text": [
        " 501\n",
        "goth_group_pic00466_07.jpg"
       ]
      },
      {
       "output_type": "stream",
       "stream": "stdout",
       "text": [
        " 501\n",
        "formal_group_pic00346_07.jpg"
       ]
      },
      {
       "output_type": "stream",
       "stream": "stdout",
       "text": [
        " 501\n",
        "goth_group_pic00506_07.jpg"
       ]
      },
      {
       "output_type": "stream",
       "stream": "stdout",
       "text": [
        " 461\n",
        "hiphop_group_pic00712_04.jpg"
       ]
      },
      {
       "output_type": "stream",
       "stream": "stdout",
       "text": [
        " 461\n",
        "goth_group_pic00441_05.jpg"
       ]
      },
      {
       "output_type": "stream",
       "stream": "stdout",
       "text": [
        " 461\n",
        "ravers_group_pic00953_09.jpg"
       ]
      },
      {
       "output_type": "stream",
       "stream": "stdout",
       "text": [
        " 252\n",
        "clubber_group_pic00155_05.jpg"
       ]
      },
      {
       "output_type": "stream",
       "stream": "stdout",
       "text": [
        " 252\n",
        "ravers_group_pic00914_04.jpg"
       ]
      },
      {
       "output_type": "stream",
       "stream": "stdout",
       "text": [
        " 252\n",
        "country_group_pic00311_02.jpg"
       ]
      },
      {
       "output_type": "stream",
       "stream": "stdout",
       "text": [
        " 735\n",
        "country_group_pic00271_01.jpg"
       ]
      },
      {
       "output_type": "stream",
       "stream": "stdout",
       "text": [
        " 735\n",
        "hipster_group_pic00817_01.jpg"
       ]
      },
      {
       "output_type": "stream",
       "stream": "stdout",
       "text": [
        " 735\n",
        "biker_group_pic00083_04.jpg"
       ]
      },
      {
       "output_type": "stream",
       "stream": "stdout",
       "text": [
        " 493\n",
        "country_group_pic00238_07.jpg"
       ]
      },
      {
       "output_type": "stream",
       "stream": "stdout",
       "text": [
        " 493\n",
        "goth_group_pic00441_11.jpg"
       ]
      },
      {
       "output_type": "stream",
       "stream": "stdout",
       "text": [
        " 493\n",
        "country_group_pic00296_04.jpg"
       ]
      },
      {
       "output_type": "stream",
       "stream": "stdout",
       "text": [
        " 402\n",
        "goth_group_pic00438_12.jpg"
       ]
      },
      {
       "output_type": "stream",
       "stream": "stdout",
       "text": [
        " 402\n",
        "hiphop_group_pic00702_02.jpg"
       ]
      },
      {
       "output_type": "stream",
       "stream": "stdout",
       "text": [
        " 402\n",
        "biker_group_pic00096_10.jpg"
       ]
      },
      {
       "output_type": "stream",
       "stream": "stdout",
       "text": [
        " 608\n",
        "hipster_group_pic00726_01.jpg"
       ]
      },
      {
       "output_type": "stream",
       "stream": "stdout",
       "text": [
        " 608\n",
        "goth_group_pic00451_02.jpg"
       ]
      },
      {
       "output_type": "stream",
       "stream": "stdout",
       "text": [
        " 608\n",
        "formal_group_pic00324_11.jpg"
       ]
      },
      {
       "output_type": "stream",
       "stream": "stdout",
       "text": [
        " 818\n",
        "clubber_group_pic00166_10.jpg"
       ]
      },
      {
       "output_type": "stream",
       "stream": "stdout",
       "text": [
        " 818\n",
        "formal_group_pic00421_07.jpg"
       ]
      },
      {
       "output_type": "stream",
       "stream": "stdout",
       "text": [
        " 818\n",
        "goth_group_pic00451_03.jpg"
       ]
      },
      {
       "output_type": "stream",
       "stream": "stdout",
       "text": [
        " 617\n",
        "hipster_group_pic00814_02.jpg"
       ]
      },
      {
       "output_type": "stream",
       "stream": "stdout",
       "text": [
        " 617\n",
        "others_group_pic00857_02.jpg"
       ]
      },
      {
       "output_type": "stream",
       "stream": "stdout",
       "text": [
        " 617\n",
        "hipster_group_pic00779_01.jpg"
       ]
      },
      {
       "output_type": "stream",
       "stream": "stdout",
       "text": [
        " 824\n",
        "hipster_group_pic00779_05.jpg"
       ]
      },
      {
       "output_type": "stream",
       "stream": "stdout",
       "text": [
        " 824\n",
        "surfer_group_pic01022_02.jpg"
       ]
      },
      {
       "output_type": "stream",
       "stream": "stdout",
       "text": [
        " 824\n",
        "goth_group_pic00472_02.jpg"
       ]
      },
      {
       "output_type": "stream",
       "stream": "stdout",
       "text": [
        " 578\n",
        "formal_group_pic00412_04.jpg"
       ]
      },
      {
       "output_type": "stream",
       "stream": "stdout",
       "text": [
        " 578\n",
        "formal_group_pic00395_02.jpg"
       ]
      },
      {
       "output_type": "stream",
       "stream": "stdout",
       "text": [
        " 578\n",
        "biker_group_pic00062_05.jpg"
       ]
      },
      {
       "output_type": "stream",
       "stream": "stdout",
       "text": [
        " 590\n",
        "surfer_group_pic01029_03.jpg"
       ]
      },
      {
       "output_type": "stream",
       "stream": "stdout",
       "text": [
        " 590\n",
        "heavy_group_pic00624_01.jpg"
       ]
      },
      {
       "output_type": "stream",
       "stream": "stdout",
       "text": [
        " 590\n",
        "formal_group_pic00323_05.jpg"
       ]
      },
      {
       "output_type": "stream",
       "stream": "stdout",
       "text": [
        " 419\n",
        "hipster_group_pic00793_07.jpg"
       ]
      },
      {
       "output_type": "stream",
       "stream": "stdout",
       "text": [
        " 419\n",
        "formal_group_pic00328_06.jpg"
       ]
      },
      {
       "output_type": "stream",
       "stream": "stdout",
       "text": [
        " 419\n",
        "others_group_pic00896_07.jpg"
       ]
      },
      {
       "output_type": "stream",
       "stream": "stdout",
       "text": [
        " 854\n",
        "surfer_group_pic01106_01.jpg"
       ]
      },
      {
       "output_type": "stream",
       "stream": "stdout",
       "text": [
        " 854\n",
        "hipster_group_pic00731_13.jpg"
       ]
      },
      {
       "output_type": "stream",
       "stream": "stdout",
       "text": [
        " 854\n",
        "clubber_group_pic00125_05.jpg"
       ]
      },
      {
       "output_type": "stream",
       "stream": "stdout",
       "text": [
        " 823\n",
        "others_group_pic00847_01.jpg"
       ]
      },
      {
       "output_type": "stream",
       "stream": "stdout",
       "text": [
        " 823\n",
        "others_group_pic01158_03.jpg"
       ]
      },
      {
       "output_type": "stream",
       "stream": "stdout",
       "text": [
        " 823\n",
        "country_group_pic00234_04.jpg"
       ]
      },
      {
       "output_type": "stream",
       "stream": "stdout",
       "text": [
        " 715\n",
        "biker_group_pic00096_04.jpg"
       ]
      },
      {
       "output_type": "stream",
       "stream": "stdout",
       "text": [
        " 715\n",
        "biker_group_pic00030_11.jpg"
       ]
      },
      {
       "output_type": "stream",
       "stream": "stdout",
       "text": [
        " 715\n",
        "formal_group_pic00334_08.jpg"
       ]
      },
      {
       "output_type": "stream",
       "stream": "stdout",
       "text": [
        " 63\n",
        "clubber_group_pic00187_08.jpg"
       ]
      },
      {
       "output_type": "stream",
       "stream": "stdout",
       "text": [
        " 63\n",
        "country_group_pic00245_13.jpg"
       ]
      },
      {
       "output_type": "stream",
       "stream": "stdout",
       "text": [
        " 63\n",
        "formal_group_pic00324_05.jpg"
       ]
      },
      {
       "output_type": "stream",
       "stream": "stdout",
       "text": [
        " 974\n",
        "surfer_group_pic01067_06.jpg"
       ]
      },
      {
       "output_type": "stream",
       "stream": "stdout",
       "text": [
        " 974\n",
        "country_group_pic00230_01.jpg"
       ]
      },
      {
       "output_type": "stream",
       "stream": "stdout",
       "text": [
        " 974\n",
        "ravers_group_pic00953_02.jpg"
       ]
      },
      {
       "output_type": "stream",
       "stream": "stdout",
       "text": [
        " 638\n",
        "hipster_group_pic00752_01.jpg"
       ]
      },
      {
       "output_type": "stream",
       "stream": "stdout",
       "text": [
        " 638\n",
        "ravers_group_pic00953_04.jpg"
       ]
      },
      {
       "output_type": "stream",
       "stream": "stdout",
       "text": [
        " 638\n",
        "formal_group_pic00324_12.jpg"
       ]
      },
      {
       "output_type": "stream",
       "stream": "stdout",
       "text": [
        " 982\n",
        "goth_group_pic00476_01.jpg"
       ]
      },
      {
       "output_type": "stream",
       "stream": "stdout",
       "text": [
        " 982\n",
        "formal_group_pic00324_10.jpg"
       ]
      },
      {
       "output_type": "stream",
       "stream": "stdout",
       "text": [
        " 982\n",
        "heavy_group_pic00594_05.jpg"
       ]
      },
      {
       "output_type": "stream",
       "stream": "stdout",
       "text": [
        " 793\n",
        "clubber_group_pic00177_05.jpg"
       ]
      },
      {
       "output_type": "stream",
       "stream": "stdout",
       "text": [
        " 793\n",
        "country_group_pic00298_05.jpg"
       ]
      },
      {
       "output_type": "stream",
       "stream": "stdout",
       "text": [
        " 793\n",
        "ravers_group_pic00955_01.jpg"
       ]
      },
      {
       "output_type": "stream",
       "stream": "stdout",
       "text": [
        " 808\n",
        "clubber_group_pic00177_05.jpg"
       ]
      },
      {
       "output_type": "stream",
       "stream": "stdout",
       "text": [
        " 808\n",
        "ravers_group_pic00946_02.jpg"
       ]
      },
      {
       "output_type": "stream",
       "stream": "stdout",
       "text": [
        " 808\n",
        "biker_group_pic00051_04.jpg"
       ]
      },
      {
       "output_type": "stream",
       "stream": "stdout",
       "text": [
        " 731\n",
        "country_group_pic00304_06.jpg"
       ]
      },
      {
       "output_type": "stream",
       "stream": "stdout",
       "text": [
        " 731\n",
        "hipster_group_pic00758_01.jpg"
       ]
      },
      {
       "output_type": "stream",
       "stream": "stdout",
       "text": [
        " 731\n",
        "others_group_pic00848_03.jpg"
       ]
      },
      {
       "output_type": "stream",
       "stream": "stdout",
       "text": [
        " 122\n",
        "surfer_group_pic01075_02.jpg"
       ]
      },
      {
       "output_type": "stream",
       "stream": "stdout",
       "text": [
        " 122\n",
        "surfer_group_pic01061_01.jpg"
       ]
      },
      {
       "output_type": "stream",
       "stream": "stdout",
       "text": [
        " 122\n",
        "clubber_group_pic00194_04.jpg"
       ]
      },
      {
       "output_type": "stream",
       "stream": "stdout",
       "text": [
        " 785\n",
        "clubber_group_pic00136_05.jpg"
       ]
      },
      {
       "output_type": "stream",
       "stream": "stdout",
       "text": [
        " 785\n",
        "clubber_group_pic00125_04.jpg"
       ]
      },
      {
       "output_type": "stream",
       "stream": "stdout",
       "text": [
        " 785\n",
        "goth_group_pic00518_02.jpg"
       ]
      },
      {
       "output_type": "stream",
       "stream": "stdout",
       "text": [
        " 176\n",
        "ravers_group_pic00912_04.jpg"
       ]
      },
      {
       "output_type": "stream",
       "stream": "stdout",
       "text": [
        " 176\n",
        "others_group_pic00827_04.jpg"
       ]
      },
      {
       "output_type": "stream",
       "stream": "stdout",
       "text": [
        " 176\n",
        "surfer_group_pic01022_03.jpg"
       ]
      },
      {
       "output_type": "stream",
       "stream": "stdout",
       "text": [
        " 529\n",
        "ravers_group_pic00962_04.jpg"
       ]
      },
      {
       "output_type": "stream",
       "stream": "stdout",
       "text": [
        " 529\n",
        "heavy_group_pic00594_01.jpg"
       ]
      },
      {
       "output_type": "stream",
       "stream": "stdout",
       "text": [
        " 529\n",
        "country_group_pic00234_07.jpg"
       ]
      },
      {
       "output_type": "stream",
       "stream": "stdout",
       "text": [
        " 451\n",
        "formal_group_pic00370_09.jpg"
       ]
      },
      {
       "output_type": "stream",
       "stream": "stdout",
       "text": [
        " 451\n",
        "ravers_group_pic00914_02.jpg"
       ]
      },
      {
       "output_type": "stream",
       "stream": "stdout",
       "text": [
        " 451\n",
        "formal_group_pic00387_01.jpg"
       ]
      },
      {
       "output_type": "stream",
       "stream": "stdout",
       "text": [
        " 457\n",
        "formal_group_pic00324_10.jpg"
       ]
      },
      {
       "output_type": "stream",
       "stream": "stdout",
       "text": [
        " 457\n",
        "formal_group_pic00324_07.jpg"
       ]
      },
      {
       "output_type": "stream",
       "stream": "stdout",
       "text": [
        " 457\n",
        "biker_group_pic00040_13.jpg"
       ]
      },
      {
       "output_type": "stream",
       "stream": "stdout",
       "text": [
        " 367\n",
        "biker_group_pic00008_14.jpg"
       ]
      },
      {
       "output_type": "stream",
       "stream": "stdout",
       "text": [
        " 367\n",
        "others_group_pic00827_05.jpg"
       ]
      },
      {
       "output_type": "stream",
       "stream": "stdout",
       "text": [
        " 367\n",
        "others_group_pic00878_13.jpg"
       ]
      },
      {
       "output_type": "stream",
       "stream": "stdout",
       "text": [
        " 488\n"
       ]
      },
      {
       "ename": "KeyboardInterrupt",
       "evalue": "",
       "output_type": "pyerr",
       "traceback": [
        "\u001b[1;31m---------------------------------------------------------------------------\u001b[0m\n\u001b[1;31mKeyboardInterrupt\u001b[0m                         Traceback (most recent call last)",
        "\u001b[1;32m<ipython-input-29-4b892892b098>\u001b[0m in \u001b[0;36m<module>\u001b[1;34m()\u001b[0m\n\u001b[0;32m     16\u001b[0m         \u001b[0mpool5_indice\u001b[0m \u001b[1;33m=\u001b[0m \u001b[0mget_pool_indice\u001b[0m\u001b[1;33m(\u001b[0m\u001b[0mnet\u001b[0m\u001b[1;33m,\u001b[0m\u001b[1;36m5\u001b[0m\u001b[1;33m,\u001b[0m\u001b[0mno_feature_map\u001b[0m\u001b[1;33m)\u001b[0m\u001b[1;33m\u001b[0m\u001b[0m\n\u001b[0;32m     17\u001b[0m         \u001b[0mplt\u001b[0m\u001b[1;33m.\u001b[0m\u001b[0msubplot\u001b[0m\u001b[1;33m(\u001b[0m\u001b[1;36m3\u001b[0m\u001b[1;33m,\u001b[0m\u001b[1;36m3\u001b[0m\u001b[1;33m,\u001b[0m\u001b[0mi\u001b[0m\u001b[1;33m+\u001b[0m\u001b[1;36m3\u001b[0m\u001b[1;33m)\u001b[0m\u001b[1;33m\u001b[0m\u001b[0m\n\u001b[1;32m---> 18\u001b[1;33m         \u001b[0moutputs_layer1\u001b[0m \u001b[1;33m=\u001b[0m \u001b[0mrecon_1000prob\u001b[0m\u001b[1;33m(\u001b[0m\u001b[0mnet\u001b[0m\u001b[1;33m,\u001b[0m \u001b[0mno_feature_map\u001b[0m\u001b[1;33m,\u001b[0m \u001b[0mpool1_indice\u001b[0m\u001b[1;33m,\u001b[0m\u001b[0mpool2_indice\u001b[0m\u001b[1;33m,\u001b[0m\u001b[0mpool5_indice\u001b[0m\u001b[1;33m)\u001b[0m\u001b[1;33m\u001b[0m\u001b[0m\n\u001b[0m\u001b[0;32m     19\u001b[0m         \u001b[0mplt\u001b[0m\u001b[1;33m.\u001b[0m\u001b[0mimshow\u001b[0m\u001b[1;33m(\u001b[0m\u001b[0moutputs_layer1\u001b[0m\u001b[1;33m[\u001b[0m\u001b[1;33m:\u001b[0m\u001b[1;33m,\u001b[0m\u001b[1;33m:\u001b[0m\u001b[1;33m,\u001b[0m\u001b[1;33m:\u001b[0m\u001b[1;33m:\u001b[0m\u001b[1;33m-\u001b[0m\u001b[1;36m1\u001b[0m\u001b[1;33m]\u001b[0m\u001b[1;33m)\u001b[0m\u001b[1;33m\u001b[0m\u001b[0m\n\u001b[0;32m     20\u001b[0m     \u001b[0moutputs_layer1\u001b[0m \u001b[1;33m=\u001b[0m \u001b[0mrecon_1000prob_no_pool\u001b[0m\u001b[1;33m(\u001b[0m\u001b[0mnet\u001b[0m\u001b[1;33m,\u001b[0m \u001b[0mno_feature_map\u001b[0m\u001b[1;33m)\u001b[0m\u001b[1;33m\u001b[0m\u001b[0m\n",
        "\u001b[1;32m<ipython-input-19-8551c3d550a8>\u001b[0m in \u001b[0;36mrecon_1000prob\u001b[1;34m(net, no_feature_map, pool1_indice, pool2_indice, pool5_indice)\u001b[0m\n\u001b[0;32m     91\u001b[0m     \u001b[0mfilters\u001b[0m \u001b[1;33m=\u001b[0m \u001b[0mnet\u001b[0m\u001b[1;33m.\u001b[0m\u001b[0mparams\u001b[0m\u001b[1;33m[\u001b[0m\u001b[1;34m'conv1'\u001b[0m\u001b[1;33m]\u001b[0m\u001b[1;33m[\u001b[0m\u001b[1;36m0\u001b[0m\u001b[1;33m]\u001b[0m\u001b[1;33m.\u001b[0m\u001b[0mdata\u001b[0m\u001b[1;33m[\u001b[0m\u001b[1;33m:\u001b[0m\u001b[1;33m,\u001b[0m\u001b[1;33m:\u001b[0m\u001b[1;33m,\u001b[0m\u001b[1;33m:\u001b[0m\u001b[1;33m,\u001b[0m\u001b[1;33m:\u001b[0m\u001b[1;33m]\u001b[0m\u001b[1;33m\u001b[0m\u001b[0m\n\u001b[0;32m     92\u001b[0m     \u001b[0mbias\u001b[0m \u001b[1;33m=\u001b[0m \u001b[0mnp\u001b[0m\u001b[1;33m.\u001b[0m\u001b[0mtranspose\u001b[0m\u001b[1;33m(\u001b[0m\u001b[0mnet\u001b[0m\u001b[1;33m.\u001b[0m\u001b[0mparams\u001b[0m\u001b[1;33m[\u001b[0m\u001b[1;34m'conv1'\u001b[0m\u001b[1;33m]\u001b[0m\u001b[1;33m[\u001b[0m\u001b[1;36m1\u001b[0m\u001b[1;33m]\u001b[0m\u001b[1;33m.\u001b[0m\u001b[0mdata\u001b[0m\u001b[1;33m[\u001b[0m\u001b[1;36m0\u001b[0m\u001b[1;33m,\u001b[0m\u001b[1;33m:\u001b[0m\u001b[1;33m,\u001b[0m\u001b[1;33m:\u001b[0m\u001b[1;33m,\u001b[0m\u001b[1;33m:\u001b[0m\u001b[1;33m]\u001b[0m\u001b[1;33m,\u001b[0m\u001b[1;33m[\u001b[0m\u001b[1;36m2\u001b[0m\u001b[1;33m,\u001b[0m\u001b[1;36m1\u001b[0m\u001b[1;33m,\u001b[0m\u001b[1;36m0\u001b[0m\u001b[1;33m]\u001b[0m\u001b[1;33m)\u001b[0m\u001b[1;33m\u001b[0m\u001b[0m\n\u001b[1;32m---> 93\u001b[1;33m     \u001b[0mrecon_data\u001b[0m \u001b[1;33m=\u001b[0m \u001b[0mconv_layer\u001b[0m\u001b[1;33m(\u001b[0m\u001b[0mrecon_conv1\u001b[0m\u001b[1;33m,\u001b[0m \u001b[0mfilters\u001b[0m\u001b[1;33m,\u001b[0m \u001b[0mbias\u001b[0m\u001b[1;33m,\u001b[0m\u001b[0mmethod\u001b[0m\u001b[1;33m=\u001b[0m\u001b[1;34m'same'\u001b[0m\u001b[1;33m)\u001b[0m\u001b[1;33m\u001b[0m\u001b[0m\n\u001b[0m\u001b[0;32m     94\u001b[0m     \u001b[0mrecon_data\u001b[0m\u001b[1;33m=\u001b[0m \u001b[0mnp\u001b[0m\u001b[1;33m.\u001b[0m\u001b[0mtranspose\u001b[0m\u001b[1;33m(\u001b[0m\u001b[0mnp\u001b[0m\u001b[1;33m.\u001b[0m\u001b[0msqueeze\u001b[0m\u001b[1;33m(\u001b[0m\u001b[0mrecon_data\u001b[0m\u001b[1;33m)\u001b[0m\u001b[1;33m,\u001b[0m\u001b[1;33m(\u001b[0m\u001b[1;36m1\u001b[0m\u001b[1;33m,\u001b[0m\u001b[1;36m2\u001b[0m\u001b[1;33m,\u001b[0m\u001b[1;36m0\u001b[0m\u001b[1;33m)\u001b[0m\u001b[1;33m)\u001b[0m\u001b[1;33m\u001b[0m\u001b[0m\n\u001b[0;32m     95\u001b[0m     \u001b[0mrecon_data\u001b[0m\u001b[1;33m=\u001b[0m \u001b[1;33m(\u001b[0m\u001b[0mrecon_data\u001b[0m\u001b[1;33m-\u001b[0m\u001b[0mnp\u001b[0m\u001b[1;33m.\u001b[0m\u001b[0mmin\u001b[0m\u001b[1;33m(\u001b[0m\u001b[0mrecon_data\u001b[0m\u001b[1;33m)\u001b[0m\u001b[1;33m)\u001b[0m\u001b[1;33m/\u001b[0m\u001b[1;33m(\u001b[0m\u001b[0mnp\u001b[0m\u001b[1;33m.\u001b[0m\u001b[0mmax\u001b[0m\u001b[1;33m(\u001b[0m\u001b[0mrecon_data\u001b[0m\u001b[1;33m)\u001b[0m\u001b[1;33m-\u001b[0m\u001b[0mnp\u001b[0m\u001b[1;33m.\u001b[0m\u001b[0mmin\u001b[0m\u001b[1;33m(\u001b[0m\u001b[0mrecon_data\u001b[0m\u001b[1;33m)\u001b[0m\u001b[1;33m)\u001b[0m\u001b[1;33m\u001b[0m\u001b[0m\n",
        "\u001b[1;32m<ipython-input-27-d376d9bc6ec3>\u001b[0m in \u001b[0;36mconv_layer\u001b[1;34m(inputs, filters, bias, method)\u001b[0m\n\u001b[0;32m     45\u001b[0m     \u001b[1;32mfor\u001b[0m \u001b[0mi\u001b[0m \u001b[1;32min\u001b[0m \u001b[0mxrange\u001b[0m\u001b[1;33m(\u001b[0m\u001b[0mfilter_shape\u001b[0m\u001b[1;33m[\u001b[0m\u001b[1;36m0\u001b[0m\u001b[1;33m]\u001b[0m\u001b[1;33m)\u001b[0m\u001b[1;33m:\u001b[0m\u001b[1;33m\u001b[0m\u001b[0m\n\u001b[0;32m     46\u001b[0m         \u001b[1;32mfor\u001b[0m \u001b[0mj\u001b[0m \u001b[1;32min\u001b[0m \u001b[0mxrange\u001b[0m\u001b[1;33m(\u001b[0m\u001b[0mfilter_shape\u001b[0m\u001b[1;33m[\u001b[0m\u001b[1;36m1\u001b[0m\u001b[1;33m]\u001b[0m\u001b[1;33m)\u001b[0m\u001b[1;33m:\u001b[0m\u001b[1;33m\u001b[0m\u001b[0m\n\u001b[1;32m---> 47\u001b[1;33m             \u001b[0moutputs\u001b[0m\u001b[1;33m[\u001b[0m\u001b[0mi\u001b[0m\u001b[1;33m,\u001b[0m\u001b[1;33m:\u001b[0m\u001b[1;33m,\u001b[0m\u001b[1;33m:\u001b[0m\u001b[1;33m]\u001b[0m \u001b[1;33m+=\u001b[0m \u001b[0mconvolve2d\u001b[0m\u001b[1;33m(\u001b[0m\u001b[0minputs\u001b[0m\u001b[1;33m[\u001b[0m\u001b[0mj\u001b[0m\u001b[1;33m,\u001b[0m\u001b[1;33m:\u001b[0m\u001b[1;33m,\u001b[0m\u001b[1;33m:\u001b[0m\u001b[1;33m]\u001b[0m\u001b[1;33m,\u001b[0m \u001b[0mfilters\u001b[0m\u001b[1;33m[\u001b[0m\u001b[0mi\u001b[0m\u001b[1;33m,\u001b[0m\u001b[0mj\u001b[0m\u001b[1;33m,\u001b[0m\u001b[1;33m:\u001b[0m\u001b[1;33m,\u001b[0m\u001b[1;33m:\u001b[0m\u001b[1;33m]\u001b[0m\u001b[1;33m,\u001b[0m\u001b[0mmethod\u001b[0m\u001b[1;33m)\u001b[0m\u001b[1;33m\u001b[0m\u001b[0m\n\u001b[0m\u001b[0;32m     48\u001b[0m     \u001b[1;32mreturn\u001b[0m \u001b[0moutputs\u001b[0m\u001b[1;33m\u001b[0m\u001b[0m\n\u001b[0;32m     49\u001b[0m \u001b[1;32mdef\u001b[0m \u001b[0mrelu_layer\u001b[0m\u001b[1;33m(\u001b[0m\u001b[0minputs\u001b[0m\u001b[1;33m)\u001b[0m\u001b[1;33m:\u001b[0m\u001b[1;33m\u001b[0m\u001b[0m\n",
        "\u001b[1;32m/usr/local/lib/python2.7/dist-packages/scipy/signal/signaltools.pyc\u001b[0m in \u001b[0;36mconvolve2d\u001b[1;34m(in1, in2, mode, boundary, fillvalue)\u001b[0m\n\u001b[0;32m    486\u001b[0m         \u001b[0mwarnings\u001b[0m\u001b[1;33m.\u001b[0m\u001b[0msimplefilter\u001b[0m\u001b[1;33m(\u001b[0m\u001b[1;34m'ignore'\u001b[0m\u001b[1;33m,\u001b[0m \u001b[0mnp\u001b[0m\u001b[1;33m.\u001b[0m\u001b[0mComplexWarning\u001b[0m\u001b[1;33m)\u001b[0m\u001b[1;33m\u001b[0m\u001b[0m\n\u001b[0;32m    487\u001b[0m         \u001b[1;31m# FIXME: some cast generates a warning here\u001b[0m\u001b[1;33m\u001b[0m\u001b[1;33m\u001b[0m\u001b[0m\n\u001b[1;32m--> 488\u001b[1;33m         \u001b[0mout\u001b[0m \u001b[1;33m=\u001b[0m \u001b[0msigtools\u001b[0m\u001b[1;33m.\u001b[0m\u001b[0m_convolve2d\u001b[0m\u001b[1;33m(\u001b[0m\u001b[0min1\u001b[0m\u001b[1;33m,\u001b[0m \u001b[0min2\u001b[0m\u001b[1;33m,\u001b[0m \u001b[1;36m1\u001b[0m\u001b[1;33m,\u001b[0m \u001b[0mval\u001b[0m\u001b[1;33m,\u001b[0m \u001b[0mbval\u001b[0m\u001b[1;33m,\u001b[0m \u001b[0mfillvalue\u001b[0m\u001b[1;33m)\u001b[0m\u001b[1;33m\u001b[0m\u001b[0m\n\u001b[0m\u001b[0;32m    489\u001b[0m \u001b[1;33m\u001b[0m\u001b[0m\n\u001b[0;32m    490\u001b[0m     \u001b[1;32mreturn\u001b[0m \u001b[0mout\u001b[0m\u001b[1;33m\u001b[0m\u001b[0m\n",
        "\u001b[1;31mKeyboardInterrupt\u001b[0m: "
       ]
      },
      {
       "metadata": {},
       "output_type": "display_data",
       "png": "[encoded data removed]",
       "text": [
        "<matplotlib.figure.Figure at 0x1e008250>"
       ]
      }
     ],
     "prompt_number": 29
    },
    {
     "cell_type": "heading",
     "level": 1,
     "metadata": {},
     "source": [
      "RECONSTRUCTION OF CONV5"
     ]
    },
    {
     "cell_type": "code",
     "collapsed": false,
     "input": [
      "def recon_conv5(net, no_feature_map, pool1_indice, pool2_indice):\n",
      "    inputs = net.blobs['conv5'].data[4,no_feature_map:no_feature_map+1,:,:]\n",
      "    temp = np.squeeze(net.blobs['conv5'].data[4,no_feature_map:no_feature_map+1,:,:])\n",
      "    print 'conv5 blob shape:', temp.shape\n",
      "    index = np.argmax(temp)\n",
      "    x = index/temp.shape[0]\n",
      "    y = index % temp.shape[0]\n",
      "    print 'max index:',(x,y),np.max(temp), temp[x,y]\n",
      "    filters = net.params['conv5'][0].data[no_feature_map:no_feature_map+1,:,:,:]\n",
      "    bias = net.params['conv5'][1].data[0,0,0,no_feature_map:no_feature_map+1]\n",
      "    \n",
      "    group=no_feature_map/(net.params['conv5'][0].data.shape[0]/2)\n",
      "    print 'group:%d' % group\n",
      "    print 'conv5 filters and bias:', filters.shape, bias.shape\n",
      "    inputs = np.asarray([[[temp[x,y]]]])\n",
      "    #inputs = np.asarray([[[1000]]])\n",
      "    outputs = conv_layer(inputs, filters, bias)\n",
      "    outputs = relu_layer(outputs)\n",
      "    temp_shape = net.blobs['conv4'].data.shape\n",
      "    if(x-1<0):\n",
      "        outputs = outputs[:,1-x:,:]\n",
      "    if(x+1>temp_shape[2]-1):\n",
      "        outputs = outputs[:,:temp_shape[2]-1-x-1,:]\n",
      "    if(y-1<0):\n",
      "        outputs = outputs[:,:,1-y:]\n",
      "    if(y+1>temp_shape[3]-1):\n",
      "        outputs = outputs[:,:,:temp_shape[3]-1-y-1]\n",
      "    boundary = [max(x-1,0), min(x+1, temp_shape[2]-1), max(y-1,0), min(y+1, temp_shape[3]-1)]    \n",
      "    print 'reconstructed conv4 blob shape and boundary:', outputs.shape, boundary\n",
      "    recon_conv4 = outputs\n",
      "    boundary0 = boundary\n",
      "    \n",
      "    \n",
      "    filters = net.params['conv4'][0].data[group*192:(group+1)*192,:,:,:]\n",
      "    bias = net.params['conv4'][1].data[0,:,:,group*192:(group+1)*192]\n",
      "    bias = np.transpose(bias, [2,1,0])\n",
      "    print 'conv4 filters and bias:', filters.shape, bias.shape\n",
      "    \n",
      "    outputs = conv_layer(recon_conv4, filters, bias)\n",
      "    outputs = relu_layer(outputs)\n",
      "    temp_shape = net.blobs['conv3'].data.shape\n",
      "    if(boundary0[0]-1<0):\n",
      "        outputs = outputs[:,1-boundary0[0]:,:]\n",
      "    if(boundary0[1]+1>temp_shape[2]-1):\n",
      "        outputs = outputs[:,:temp_shape[2]-1-boundary0[1]-1,:]\n",
      "    if(boundary0[2]-1<0):\n",
      "        outputs = outputs[:,:,1-boundary0[2]:]\n",
      "    if(boundary0[3]+1>temp_shape[3]-1):\n",
      "        outputs = outputs[:,:,:temp_shape[3]-1-boundary0[3]-1]\n",
      "    boundary = [max(boundary0[0]-1,0), min(boundary0[1]+1, temp_shape[2]-1), max(boundary0[2]-1,0), min(boundary0[3]+1, temp_shape[3]-1)]\n",
      " \n",
      "    recon_conv3 = outputs\n",
      "    boundary0 = boundary\n",
      "    \n",
      "    \n",
      "    \n",
      "    filters = net.params['conv3'][0].data[group*192:(group+1)*192,:,:,:]\n",
      "    bias = net.params['conv3'][1].data[0,:,:,group*192:(group+1)*192]\n",
      "    bias = np.transpose(bias, [2,1,0])\n",
      "    print 'conv3 filters and bias:', filters.shape, bias.shape\n",
      "    \n",
      "\n",
      "    \n",
      "    outputs = conv_layer(recon_conv3, filters, bias)\n",
      "    outputs = relu_layer(outputs)\n",
      "    \n",
      "    temp_shape = net.blobs['pool2'].data.shape\n",
      "    if(boundary0[0]-1<0):\n",
      "        outputs = outputs[:,1-boundary0[0]:,:]\n",
      "    if(boundary0[1]+1>temp_shape[2]-1):\n",
      "        outputs = outputs[:,:temp_shape[2]-1-boundary0[1]-1,:]\n",
      "    if(boundary0[2]-1<0):\n",
      "        outputs = outputs[:,:,1-boundary0[2]:]\n",
      "    if(boundary0[3]+1>temp_shape[3]-1):\n",
      "        outputs = outputs[:,:,:temp_shape[3]-1-boundary0[3]-1]\n",
      "    boundary = [max(boundary0[0]-1,0), min(boundary0[1]+1, temp_shape[2]-1), max(boundary0[2]-1,0), min(boundary0[3]+1, temp_shape[3]-1)]\n",
      "    #print 'pool2 blob shape:', outputs.shape, boundary \n",
      "    pool2_index = pool2_indice[:, boundary[0]:boundary[1]+1, boundary[2]:boundary[3]+1]\n",
      "    conv2_shape = [pool2_index.shape[0], pool2_index.shape[1]*2+1, pool2_index.shape[2]*2+1]\n",
      "    print 'reconstructed pool2 shape and boundary:', outputs.shape, boundary\n",
      "    \n",
      "    recon_conv2 = unpooling_layer(outputs, pool2_index,conv2_shape)\n",
      "    temp_shape = net.blobs['conv2'].data.shape\n",
      "    boundary1 = [boundary[0]*2, min((boundary[1])*2+2, temp_shape[2]-1), boundary[2]*2, min(boundary[3]*2+2, temp_shape[3]-1)]\n",
      "    print 'reconstructed conv2 shape and boundary:', recon_conv2.shape, boundary1\n",
      "    #temp = net.blobs['conv2'].data[4,0,boundary1[0]:boundary1[1]+1,boundary1[2]:boundary1[3]+1]\n",
      "    #print recon_conv2[0,:,:],recon_conv2[0,:,:].shape\n",
      "    #print temp, temp.shape\n",
      "    #print pool2_index[0,:,:]\n",
      "    \n",
      "    conv2_part1 = recon_conv2[:recon_conv2.shape[0]/2,:,:]\n",
      "    conv2_part2 = recon_conv2[recon_conv2.shape[0]/2:,:,:]\n",
      "    filters = net.params['conv2'][0].data[:,:,:,:]\n",
      "    bias = np.transpose(net.params['conv2'][1].data[0,:,:,:],[2,1,0])\n",
      "    print 'conv2 filters and bias:',filters.shape, bias.shape\n",
      "    filters_part1 = filters[:recon_conv2.shape[0]/2,:,:,:]\n",
      "    filters_part2 = filters[recon_conv2.shape[0]/2:,:,:,:]\n",
      "    bias_part1 = bias[:recon_conv2.shape[0]/2]\n",
      "    bias_part2 = bias[recon_conv2.shape[0]/2:]\n",
      "    recon_pool1_part1 = conv_layer(conv2_part1, filters_part1, bias_part1)\n",
      "    recon_pool1_part2 = conv_layer(conv2_part2, filters_part2, bias_part2)\n",
      "    \n",
      "    recon_pool1 = np.concatenate((recon_pool1_part1, recon_pool1_part2))\n",
      "    recon_pool1 = relu_layer(recon_pool1)\n",
      "   \n",
      "    temp_shape = net.blobs['pool1'].data.shape\n",
      "    print temp_shape, recon_pool1.shape\n",
      "    if(boundary1[0]-2<0):\n",
      "        recon_pool1 = recon_pool1[:,2-boundary1[0]:,:]\n",
      "    if(boundary1[1]+2>temp_shape[2]-1):\n",
      "        recon_pool1 = recon_pool1[:,:temp_shape[2]-1-boundary1[1]-2,:]\n",
      "    if(boundary1[2]-2<0):\n",
      "        recon_pool1 = recon_pool1[:,:,2-boundary1[2]:]\n",
      "    if(boundary1[3]+2>temp_shape[3]-1):\n",
      "        recon_pool1 = recon_pool1[:,:,:temp_shape[3]-1-boundary1[3]-2]\n",
      "    boundary2 = [max(boundary1[0]-2,0), min(boundary1[1]+2, temp_shape[2]-1), max(boundary1[2]-2,0), min(boundary1[3]+2, temp_shape[3]-1)]\n",
      "    print 'reconstructed pool1 shape and boundary:', recon_pool1.shape,boundary2    \n",
      "    pool1_index = pool1_indice[:, boundary2[0]:boundary2[1]+1, boundary2[2]:boundary2[3]+1]\n",
      "    conv1_shape = [pool1_index.shape[0], pool1_index.shape[1]*2+1, pool1_index.shape[2]*2+1]\n",
      "    recon_conv1 = unpooling_layer(recon_pool1, pool1_index,conv1_shape)\n",
      "    temp_shape = net.blobs['conv1'].data.shape\n",
      "    boundary3 = [boundary2[0]*2, min((boundary2[1])*2+2, temp_shape[2]-1), boundary2[2]*2, min(boundary2[3]*2+2, temp_shape[3]-1)]\n",
      "    print 'reconstructed conv1 shape and boundary:', recon_conv1.shape, boundary3\n",
      "    \n",
      "    filters = net.params['conv1'][0].data[:,:,:,:]\n",
      "    bias = np.transpose(net.params['conv1'][1].data[0,:,:,:],[2,1,0])\n",
      "    print 'conv1 filters and bias:', filters.shape, bias.shape\n",
      "    \n",
      "    #show reconstructed data\n",
      "    recon_data = conv_layer(recon_conv1, filters, bias,method='same')\n",
      "    recon_data= np.transpose(np.squeeze(recon_data),(1,2,0))\n",
      "    recon_data= (recon_data-np.min(recon_data))/(np.max(recon_data)-np.min(recon_data))\n",
      "    \n",
      "    print 'reconstructed data shape', recon_data.shape\n",
      "\n",
      "    temp_shape = net.blobs['data'].data.shape\n",
      "    print temp_shape\n",
      "    print 'reconstructed data shape and boundary:', recon_data.shape, boundary3\n",
      "    return boundary3, recon_data"
     ],
     "language": "python",
     "metadata": {},
     "outputs": [],
     "prompt_number": 7
    },
    {
     "cell_type": "code",
     "collapsed": false,
     "input": [
      "conv5 = np.load('/raid/yufeihome/urban_tribe/caffe/Analysis_2/CNN_cross1/0.0_conv5.npy')\n",
      "p_urban = np.load('/raid/yufeihome/urban_tribe/caffe/Analysis_2/CNN_cross1/0.0_probability_urban_tribe.npy')"
     ],
     "language": "python",
     "metadata": {},
     "outputs": [],
     "prompt_number": 9
    },
    {
     "cell_type": "code",
     "collapsed": false,
     "input": [
      "conv5.shape"
     ],
     "language": "python",
     "metadata": {},
     "outputs": [
      {
       "metadata": {},
       "output_type": "pyout",
       "prompt_number": 10,
       "text": [
        "(235, 10, 256, 13, 13)"
       ]
      }
     ],
     "prompt_number": 10
    },
    {
     "cell_type": "code",
     "collapsed": false,
     "input": [
      "p_urban.shape"
     ],
     "language": "python",
     "metadata": {},
     "outputs": [
      {
       "metadata": {},
       "output_type": "pyout",
       "prompt_number": 11,
       "text": [
        "(235, 10, 11, 1, 1)"
       ]
      }
     ],
     "prompt_number": 11
    },
    {
     "cell_type": "markdown",
     "metadata": {},
     "source": [
      "Find maximum & mean activation for each of the validation image for each of the feature map:"
     ]
    },
    {
     "cell_type": "code",
     "collapsed": false,
     "input": [
      "max_conv5 = np.zeros((conv5.shape[0],conv5.shape[2]))\n",
      "mean_conv5 = np.zeros((conv5.shape[0],conv5.shape[2]))\n",
      "\n",
      "for i in xrange(conv5.shape[0]):\n",
      "    for j in xrange(conv5.shape[2]):\n",
      "        max_conv5[i,j] = np.max(conv5[i,4,j,:,:])\n",
      "        mean_conv5[i,j] = np.sum(conv5[i,4,j,:,:])/169\n"
     ],
     "language": "python",
     "metadata": {},
     "outputs": [],
     "prompt_number": 12
    },
    {
     "cell_type": "code",
     "collapsed": false,
     "input": [
      "max_conv5.shape"
     ],
     "language": "python",
     "metadata": {},
     "outputs": [
      {
       "metadata": {},
       "output_type": "pyout",
       "prompt_number": 13,
       "text": [
        "(235, 256)"
       ]
      }
     ],
     "prompt_number": 13
    },
    {
     "cell_type": "markdown",
     "metadata": {},
     "source": [
      "Find correlation between feature map & urban tribe class"
     ]
    },
    {
     "cell_type": "code",
     "collapsed": false,
     "input": [
      "corr = np.zeros((mean_conv5.shape[1],p_urban.shape[2]))\n",
      "p_value = np.zeros((mean_conv5.shape[1],p_urban.shape[2]))\n",
      "p_urban = np.squeeze(p_urban)\n",
      "\n",
      "for i in xrange(256):\n",
      "    for j in xrange(11):\n",
      "        corr[i,j],p_value[i,j] = pearsonr(mean_conv5[:,i],p_urban[:,4,j])\n"
     ],
     "language": "python",
     "metadata": {},
     "outputs": [],
     "prompt_number": 14
    },
    {
     "cell_type": "code",
     "collapsed": false,
     "input": [
      "corr.shape"
     ],
     "language": "python",
     "metadata": {},
     "outputs": [
      {
       "metadata": {},
       "output_type": "pyout",
       "prompt_number": 15,
       "text": [
        "(256, 11)"
       ]
      }
     ],
     "prompt_number": 15
    },
    {
     "cell_type": "markdown",
     "metadata": {},
     "source": [
      "Take heavy metal tribe for example. Find 10 most correlated feature maps. "
     ]
    },
    {
     "cell_type": "code",
     "collapsed": false,
     "input": [
      "corr_heavy = corr[:,8]\n",
      "sorted_heavy = np.argsort(corr_heavy)\n",
      "print sorted_heavy[-10:]\n",
      "print corr_heavy[sorted_heavy[-10:]]"
     ],
     "language": "python",
     "metadata": {},
     "outputs": [
      {
       "output_type": "stream",
       "stream": "stdout",
       "text": [
        "[160  50 159  77  51 208  81  74  29 144]\n",
        "[ 0.2353161   0.23606726  0.23875261  0.24051372  0.2491293   0.26483407\n",
        "  0.27659642  0.29418398  0.30101271  0.37257778]\n"
       ]
      }
     ],
     "prompt_number": 16
    },
    {
     "cell_type": "markdown",
     "metadata": {},
     "source": [
      "No.144 is the most correlated feature map. Check 20 images with highest activation on 144th feature map. Most of them are from heavy."
     ]
    },
    {
     "cell_type": "code",
     "collapsed": false,
     "input": [
      "files = '/raid/yufeihome/urban_tribe/caffe/CNN_cross1/dataset_alignment_5/0.0.pkl'\n",
      "f = open(files,'rb')\n",
      "temp = cPickle.load(f)\n",
      "f.close()\n",
      "test_files = temp[2]\n",
      "temp = max_conv5[:,144]\n",
      "a = np.argsort(temp)\n",
      "temp1  = [test_files[i] for i in a] \n",
      "print temp1[-20:]"
     ],
     "language": "python",
     "metadata": {},
     "outputs": [
      {
       "output_type": "stream",
       "stream": "stdout",
       "text": [
        "['ravers_group_pic00962.jpg', 'surfer_group_pic01068.jpg', 'heavy_group_pic00570.jpg', 'formal_group_pic00364.jpg', 'surfer_group_pic01097.jpg', 'ravers_group_pic00955.jpg', 'heavy_group_pic00526.jpg', 'hiphop_group_pic00700.jpg', 'clubber_group_pic00205.jpg', 'biker_group_pic00066.jpg', 'heavy_group_pic00562.jpg', 'heavy_group_pic00594.jpg', 'ravers_group_pic00916.jpg', 'surfer_group_pic01058.jpg', 'heavy_group_pic00536.jpg', 'country_group_pic00228.jpg', 'country_group_pic00245.jpg', 'hipster_group_pic00726.jpg', 'heavy_group_pic00586.jpg', 'heavy_group_pic00568.jpg']\n"
       ]
      }
     ],
     "prompt_number": 17
    },
    {
     "cell_type": "markdown",
     "metadata": {},
     "source": [
      "For 144th feature map, deconvolve(visualize) the most activated 4 points from all validation images. The visualization is not clear because the hand posture get dilated. Still we can see the feature map is about the hand posture. "
     ]
    },
    {
     "cell_type": "code",
     "collapsed": false,
     "input": [
      "no_feature_map = 144 \n",
      "\n",
      "test_sort = np.argsort(max_conv5[:,no_feature_map])\n",
      "for i in xrange(1,5):\n",
      "    max_file = test_files[test_sort[-i]]\n",
      "    print max_file, no_feature_map\n",
      "    net_extract(net,max_file)\n",
      "    img = np.transpose(net.blobs['data'].data[4,:,:,:],(1,2,0))\n",
      "    img = (img-np.min(img))/(np.max(img)-np.min(img))\n",
      "    img = img[:,:,::-1]\n",
      "    plt.subplot(4,3,i*3-2)\n",
      "    plt.imshow(img)\n",
      "    pool1_indice = get_pool_indice(net,1,no_feature_map)\n",
      "    pool2_indice = get_pool_indice(net,2,no_feature_map)\n",
      "    plt.subplot(4,3,i*3-1)\n",
      "    \n",
      "    print pool1_indice.shape\n",
      "    boundary, outputs_layer1 = recon_conv5(net, no_feature_map, pool1_indice,pool2_indice)\n",
      "    plt.imshow(outputs_layer1[:,:,::-1])\n",
      "    plt.subplot(4,3,i*3)\n",
      "    xmin = max(0, boundary[0]*4);xmax = boundary[1]*4\n",
      "    ymin = max(0,boundary[2]*4);ymax = boundary[3]*4\n",
      "    print (xmin, xmax,ymin,ymax)\n",
      "    plt.imshow(img[xmin:xmax,ymin:ymax,:])"
     ],
     "language": "python",
     "metadata": {},
     "outputs": [
      {
       "output_type": "stream",
       "stream": "stdout",
       "text": [
        "heavy_group_pic00568.jpg 144\n",
        "(96, 27, 27)"
       ]
      },
      {
       "output_type": "stream",
       "stream": "stdout",
       "text": [
        "\n",
        "conv5 blob shape: (13, 13)\n",
        "max index: (0, 4) 124.782 124.782\n",
        "group:1\n",
        "conv5 filters and bias: (1, 192, 3, 3) (1,)\n",
        "reconstructed conv4 blob shape and boundary: (192, 2, 3) [0, 1, 3, 5]\n",
        "conv4 filters and bias: (192, 192, 3, 3) (192, 1, 1)\n",
        "conv3 filters and bias:"
       ]
      },
      {
       "output_type": "stream",
       "stream": "stdout",
       "text": [
        " (192, 256, 3, 3) (192, 1, 1)\n",
        "reconstructed pool2 shape and boundary:"
       ]
      },
      {
       "output_type": "stream",
       "stream": "stdout",
       "text": [
        " (256, 4, 7) [0, 3, 1, 7]\n",
        "reconstructed conv2 shape and boundary: (256, 9, 15) [0, 8, 2, 16]\n",
        "conv2 filters and bias: (256, 48, 5, 5) (256, 1, 1)\n",
        "(10, 96, 27, 27)"
       ]
      },
      {
       "output_type": "stream",
       "stream": "stdout",
       "text": [
        " (96, 13, 19)\n",
        "reconstructed pool1 shape and boundary: (96, 11, 19) [0, 10, 0, 18]\n",
        "reconstructed conv1 shape and boundary:"
       ]
      },
      {
       "output_type": "stream",
       "stream": "stdout",
       "text": [
        " (96, 23, 39) [0, 22, 0, 38]\n",
        "conv1 filters and bias: (96, 3, 11, 11) (96, 1, 1)\n",
        "reconstructed data shape"
       ]
      },
      {
       "output_type": "stream",
       "stream": "stdout",
       "text": [
        " (23, 39, 3)\n",
        "(10, 3, 227, 227)\n",
        "reconstructed data shape and boundary: (23, 39, 3) [0, 22, 0, 38]\n",
        "(0, 88, 0, 152)\n",
        "heavy_group_pic00586.jpg 144\n",
        "(96, 27, 27)"
       ]
      },
      {
       "output_type": "stream",
       "stream": "stdout",
       "text": [
        "\n",
        "conv5 blob shape: (13, 13)\n",
        "max index: (1, 5) 122.776 122.776\n",
        "group:1\n",
        "conv5 filters and bias: (1, 192, 3, 3) (1,)\n",
        "reconstructed conv4 blob shape and boundary: (192, 3, 3) [0, 2, 4, 6]\n",
        "conv4 filters and bias: (192, 192, 3, 3) (192, 1, 1)\n",
        "conv3 filters and bias:"
       ]
      },
      {
       "output_type": "stream",
       "stream": "stdout",
       "text": [
        " (192, 256, 3, 3) (192, 1, 1)\n",
        "reconstructed pool2 shape and boundary:"
       ]
      },
      {
       "output_type": "stream",
       "stream": "stdout",
       "text": [
        " (256, 5, 7) [0, 4, 2, 8]\n",
        "reconstructed conv2 shape and boundary: (256, 11, 15) [0, 10, 4, 18]\n",
        "conv2 filters and bias: (256, 48, 5, 5) (256, 1, 1)\n",
        "(10, 96, 27, 27)"
       ]
      },
      {
       "output_type": "stream",
       "stream": "stdout",
       "text": [
        " (96, 15, 19)\n",
        "reconstructed pool1 shape and boundary: (96, 13, 19) [0, 12, 2, 20]\n",
        "reconstructed conv1 shape and boundary:"
       ]
      },
      {
       "output_type": "stream",
       "stream": "stdout",
       "text": [
        " (96, 27, 39) [0, 26, 4, 42]\n",
        "conv1 filters and bias: (96, 3, 11, 11) (96, 1, 1)\n",
        "reconstructed data shape"
       ]
      },
      {
       "output_type": "stream",
       "stream": "stdout",
       "text": [
        " (27, 39, 3)\n",
        "(10, 3, 227, 227)\n",
        "reconstructed data shape and boundary: (27, 39, 3) [0, 26, 4, 42]\n",
        "(0, 104, 16, 168)\n",
        "hipster_group_pic00726.jpg 144\n",
        "(96, 27, 27)"
       ]
      },
      {
       "output_type": "stream",
       "stream": "stdout",
       "text": [
        "\n",
        "conv5 blob shape: (13, 13)\n",
        "max index: (11, 2) 110.065 110.065\n",
        "group:1\n",
        "conv5 filters and bias: (1, 192, 3, 3) (1,)\n",
        "reconstructed conv4 blob shape and boundary: (192, 3, 3) [10, 12, 1, 3]\n",
        "conv4 filters and bias: (192, 192, 3, 3) (192, 1, 1)\n",
        "conv3 filters and bias:"
       ]
      },
      {
       "output_type": "stream",
       "stream": "stdout",
       "text": [
        " (192, 256, 3, 3) (192, 1, 1)\n",
        "reconstructed pool2 shape and boundary:"
       ]
      },
      {
       "output_type": "stream",
       "stream": "stdout",
       "text": [
        " (256, 5, 6) [8, 12, 0, 5]\n",
        "reconstructed conv2 shape and boundary: (256, 11, 13) [16, 26, 0, 12]\n",
        "conv2 filters and bias: (256, 48, 5, 5) (256, 1, 1)\n",
        "(10, 96, 27, 27)"
       ]
      },
      {
       "output_type": "stream",
       "stream": "stdout",
       "text": [
        " (96, 15, 17)\n",
        "reconstructed pool1 shape and boundary: (96, 13, 15) [14, 26, 0, 14]\n",
        "reconstructed conv1 shape and boundary:"
       ]
      },
      {
       "output_type": "stream",
       "stream": "stdout",
       "text": [
        " (96, 27, 31) [28, 54, 0, 30]\n",
        "conv1 filters and bias: (96, 3, 11, 11) (96, 1, 1)\n",
        "reconstructed data shape"
       ]
      },
      {
       "output_type": "stream",
       "stream": "stdout",
       "text": [
        " (27, 31, 3)\n",
        "(10, 3, 227, 227)\n",
        "reconstructed data shape and boundary: (27, 31, 3) [28, 54, 0, 30]\n",
        "(112, 216, 0, 120)\n",
        "country_group_pic00245.jpg 144\n",
        "(96, 27, 27)"
       ]
      },
      {
       "output_type": "stream",
       "stream": "stdout",
       "text": [
        "\n",
        "conv5 blob shape: (13, 13)\n",
        "max index: (1, 2) 99.3006 99.3006\n",
        "group:1\n",
        "conv5 filters and bias: (1, 192, 3, 3) (1,)\n",
        "reconstructed conv4 blob shape and boundary: (192, 3, 3) [0, 2, 1, 3]\n",
        "conv4 filters and bias: (192, 192, 3, 3) (192, 1, 1)\n",
        "conv3 filters and bias:"
       ]
      },
      {
       "output_type": "stream",
       "stream": "stdout",
       "text": [
        " (192, 256, 3, 3) (192, 1, 1)\n",
        "reconstructed pool2 shape and boundary:"
       ]
      },
      {
       "output_type": "stream",
       "stream": "stdout",
       "text": [
        " (256, 5, 6) [0, 4, 0, 5]\n",
        "reconstructed conv2 shape and boundary: (256, 11, 13) [0, 10, 0, 12]\n",
        "conv2 filters and bias: (256, 48, 5, 5) (256, 1, 1)\n",
        "(10, 96, 27, 27)"
       ]
      },
      {
       "output_type": "stream",
       "stream": "stdout",
       "text": [
        " (96, 15, 17)\n",
        "reconstructed pool1 shape and boundary: (96, 13, 15) [0, 12, 0, 14]\n",
        "reconstructed conv1 shape and boundary:"
       ]
      },
      {
       "output_type": "stream",
       "stream": "stdout",
       "text": [
        " (96, 27, 31) [0, 26, 0, 30]\n",
        "conv1 filters and bias: (96, 3, 11, 11) (96, 1, 1)\n",
        "reconstructed data shape"
       ]
      },
      {
       "output_type": "stream",
       "stream": "stdout",
       "text": [
        " (27, 31, 3)\n",
        "(10, 3, 227, 227)\n",
        "reconstructed data shape and boundary: (27, 31, 3) [0, 26, 0, 30]\n",
        "(0, 104, 0, 120)\n"
       ]
      },
      {
       "metadata": {},
       "output_type": "display_data",
       "png": "[encoded data removed]",
       "text": [
        "<matplotlib.figure.Figure at 0x8c1e410>"
       ]
      }
     ],
     "prompt_number": 18
    },
    {
     "cell_type": "markdown",
     "metadata": {},
     "source": [
      "Another feature map(121) which has really nice visualization:"
     ]
    },
    {
     "cell_type": "code",
     "collapsed": false,
     "input": [
      "no_feature_map = 121 \n",
      "\n",
      "test_sort = np.argsort(max_conv5[:,no_feature_map])\n",
      "for i in xrange(1,5):\n",
      "    max_file = test_files[test_sort[-i]]\n",
      "    print max_file, no_feature_map\n",
      "    net_extract(net,max_file)\n",
      "    img = np.transpose(net.blobs['data'].data[4,:,:,:],(1,2,0))\n",
      "    img = (img-np.min(img))/(np.max(img)-np.min(img))\n",
      "    img = img[:,:,::-1]\n",
      "    plt.subplot(4,3,i*3-2)\n",
      "    plt.imshow(img)\n",
      "    pool1_indice = get_pool_indice(net,1,no_feature_map)\n",
      "    pool2_indice = get_pool_indice(net,2,no_feature_map)\n",
      "    plt.subplot(4,3,i*3-1)\n",
      "    \n",
      "    print pool1_indice.shape\n",
      "    boundary, outputs_layer1 = recon_conv5(net, no_feature_map, pool1_indice,pool2_indice)\n",
      "    plt.imshow(outputs_layer1[:,:,::-1])\n",
      "    plt.subplot(4,3,i*3)\n",
      "    xmin = max(0, boundary[0]*4);xmax = boundary[1]*4\n",
      "    ymin = max(0,boundary[2]*4);ymax = boundary[3]*4\n",
      "    print (xmin, xmax,ymin,ymax)\n",
      "    plt.imshow(img[xmin:xmax,ymin:ymax,:])"
     ],
     "language": "python",
     "metadata": {},
     "outputs": [
      {
       "output_type": "stream",
       "stream": "stdout",
       "text": [
        "clubber_group_pic00194.jpg 121\n",
        "(96, 27, 27)"
       ]
      },
      {
       "output_type": "stream",
       "stream": "stdout",
       "text": [
        "\n",
        "conv5 blob shape: (13, 13)\n",
        "max index: (12, 11) 152.885 152.885\n",
        "group:0\n",
        "conv5 filters and bias: (1, 192, 3, 3) (1,)\n",
        "reconstructed conv4 blob shape and boundary: (192, 2, 3) [11, 12, 10, 12]\n",
        "conv4 filters and bias: (192, 192, 3, 3) (192, 1, 1)\n",
        "conv3 filters and bias:"
       ]
      },
      {
       "output_type": "stream",
       "stream": "stdout",
       "text": [
        " (192, 256, 3, 3) (192, 1, 1)\n",
        "reconstructed pool2 shape and boundary:"
       ]
      },
      {
       "output_type": "stream",
       "stream": "stdout",
       "text": [
        " (256, 4, 5) [9, 12, 8, 12]\n",
        "reconstructed conv2 shape and boundary: (256, 9, 11) [18, 26, 16, 26]\n",
        "conv2 filters and bias: (256, 48, 5, 5) (256, 1, 1)\n",
        "(10, 96, 27, 27)"
       ]
      },
      {
       "output_type": "stream",
       "stream": "stdout",
       "text": [
        " (96, 13, 15)\n",
        "reconstructed pool1 shape and boundary: (96, 11, 13) [16, 26, 14, 26]\n",
        "reconstructed conv1 shape and boundary: (96, 23, 27) [32, 54, 28, 54]\n",
        "conv1 filters and bias: (96, 3, 11, 11) (96, 1, 1)\n",
        "reconstructed data shape"
       ]
      },
      {
       "output_type": "stream",
       "stream": "stdout",
       "text": [
        " (23, 27, 3)\n",
        "(10, 3, 227, 227)\n",
        "reconstructed data shape and boundary: (23, 27, 3) [32, 54, 28, 54]\n",
        "(128, 216, 112, 216)\n",
        "ravers_group_pic00992.jpg 121\n",
        "(96, 27, 27)"
       ]
      },
      {
       "output_type": "stream",
       "stream": "stdout",
       "text": [
        "\n",
        "conv5 blob shape: (13, 13)\n",
        "max index: (6, 7) 142.44 142.44\n",
        "group:0\n",
        "conv5 filters and bias: (1, 192, 3, 3) (1,)\n",
        "reconstructed conv4 blob shape and boundary: (192, 3, 3) [5, 7, 6, 8]\n",
        "conv4 filters and bias: (192, 192, 3, 3) (192, 1, 1)\n",
        "conv3 filters and bias:"
       ]
      },
      {
       "output_type": "stream",
       "stream": "stdout",
       "text": [
        " (192, 256, 3, 3) (192, 1, 1)\n",
        "reconstructed pool2 shape and boundary:"
       ]
      },
      {
       "output_type": "stream",
       "stream": "stdout",
       "text": [
        " (256, 7, 7) [3, 9, 4, 10]\n",
        "reconstructed conv2 shape and boundary: (256, 15, 15) [6, 20, 8, 22]\n",
        "conv2 filters and bias: (256, 48, 5, 5) (256, 1, 1)\n",
        "(10, 96, 27, 27)"
       ]
      },
      {
       "output_type": "stream",
       "stream": "stdout",
       "text": [
        " (96, 19, 19)\n",
        "reconstructed pool1 shape and boundary: (96, 19, 19) [4, 22, 6, 24]\n",
        "reconstructed conv1 shape and boundary:"
       ]
      },
      {
       "output_type": "stream",
       "stream": "stdout",
       "text": [
        " (96, 39, 39) [8, 46, 12, 50]\n",
        "conv1 filters and bias: (96, 3, 11, 11) (96, 1, 1)\n",
        "reconstructed data shape"
       ]
      },
      {
       "output_type": "stream",
       "stream": "stdout",
       "text": [
        " (39, 39, 3)\n",
        "(10, 3, 227, 227)\n",
        "reconstructed data shape and boundary: (39, 39, 3) [8, 46, 12, 50]\n",
        "(32, 184, 48, 200)\n",
        "ravers_group_pic00907.jpg 121\n",
        "(96, 27, 27)"
       ]
      },
      {
       "output_type": "stream",
       "stream": "stdout",
       "text": [
        "\n",
        "conv5 blob shape: (13, 13)\n",
        "max index: (12, 3) 133.008 133.008\n",
        "group:0\n",
        "conv5 filters and bias: (1, 192, 3, 3) (1,)\n",
        "reconstructed conv4 blob shape and boundary: (192, 2, 3) [11, 12, 2, 4]\n",
        "conv4 filters and bias: (192, 192, 3, 3) (192, 1, 1)\n",
        "conv3 filters and bias:"
       ]
      },
      {
       "output_type": "stream",
       "stream": "stdout",
       "text": [
        " (192, 256, 3, 3) (192, 1, 1)\n",
        "reconstructed pool2 shape and boundary:"
       ]
      },
      {
       "output_type": "stream",
       "stream": "stdout",
       "text": [
        " (256, 4, 7) [9, 12, 0, 6]\n",
        "reconstructed conv2 shape and boundary: (256, 9, 15) [18, 26, 0, 14]\n",
        "conv2 filters and bias: (256, 48, 5, 5) (256, 1, 1)\n",
        "(10, 96, 27, 27)"
       ]
      },
      {
       "output_type": "stream",
       "stream": "stdout",
       "text": [
        " (96, 13, 19)\n",
        "reconstructed pool1 shape and boundary: (96, 11, 17) [16, 26, 0, 16]\n",
        "reconstructed conv1 shape and boundary:"
       ]
      },
      {
       "output_type": "stream",
       "stream": "stdout",
       "text": [
        " (96, 23, 35) [32, 54, 0, 34]\n",
        "conv1 filters and bias: (96, 3, 11, 11) (96, 1, 1)\n",
        "reconstructed data shape"
       ]
      },
      {
       "output_type": "stream",
       "stream": "stdout",
       "text": [
        " (23, 35, 3)\n",
        "(10, 3, 227, 227)\n",
        "reconstructed data shape and boundary: (23, 35, 3) [32, 54, 0, 34]\n",
        "(128, 216, 0, 136)\n",
        "hiphop_group_pic00652.jpg 121\n",
        "(96, 27, 27)"
       ]
      },
      {
       "output_type": "stream",
       "stream": "stdout",
       "text": [
        "\n",
        "conv5 blob shape: (13, 13)\n",
        "max index: (8, 4) 129.714 129.714\n",
        "group:0\n",
        "conv5 filters and bias: (1, 192, 3, 3) (1,)\n",
        "reconstructed conv4 blob shape and boundary: (192, 3, 3) [7, 9, 3, 5]\n",
        "conv4 filters and bias: (192, 192, 3, 3) (192, 1, 1)\n",
        "conv3 filters and bias:"
       ]
      },
      {
       "output_type": "stream",
       "stream": "stdout",
       "text": [
        " (192, 256, 3, 3) (192, 1, 1)\n",
        "reconstructed pool2 shape and boundary:"
       ]
      },
      {
       "output_type": "stream",
       "stream": "stdout",
       "text": [
        " (256, 7, 7) [5, 11, 1, 7]\n",
        "reconstructed conv2 shape and boundary: (256, 15, 15) [10, 24, 2, 16]\n",
        "conv2 filters and bias: (256, 48, 5, 5) (256, 1, 1)\n",
        "(10, 96, 27, 27)"
       ]
      },
      {
       "output_type": "stream",
       "stream": "stdout",
       "text": [
        " (96, 19, 19)\n",
        "reconstructed pool1 shape and boundary: (96, 19, 19) [8, 26, 0, 18]\n",
        "reconstructed conv1 shape and boundary:"
       ]
      },
      {
       "output_type": "stream",
       "stream": "stdout",
       "text": [
        " (96, 39, 39) [16, 54, 0, 38]\n",
        "conv1 filters and bias: (96, 3, 11, 11) (96, 1, 1)\n",
        "reconstructed data shape"
       ]
      },
      {
       "output_type": "stream",
       "stream": "stdout",
       "text": [
        " (39, 39, 3)\n",
        "(10, 3, 227, 227)\n",
        "reconstructed data shape and boundary: (39, 39, 3) [16, 54, 0, 38]\n",
        "(64, 216, 0, 152)\n"
       ]
      },
      {
       "metadata": {},
       "output_type": "display_data",
       "png": "[encoded data removed]",
       "text": [
        "<matplotlib.figure.Figure at 0x1aaa2610>"
       ]
      }
     ],
     "prompt_number": 19
    },
    {
     "cell_type": "code",
     "collapsed": false,
     "input": [],
     "language": "python",
     "metadata": {},
     "outputs": []
    }
   ],
   "metadata": {}
  }
 ]
}